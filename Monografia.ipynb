{
  "nbformat": 4,
  "nbformat_minor": 0,
  "metadata": {
    "colab": {
      "name": "Monografia.ipynb",
      "provenance": [],
      "collapsed_sections": [],
      "machine_shape": "hm"
    },
    "kernelspec": {
      "display_name": "Python 3",
      "name": "python3"
    },
    "accelerator": "GPU"
  },
  "cells": [
    {
      "cell_type": "markdown",
      "metadata": {
        "id": "HqFaB_h7OaxW"
      },
      "source": [
        "# **Predicción de ingresos de clientes de Google Analytics**\n",
        "# **Predecir cuánto gastarán los clientes de GStore**"
      ]
    },
    {
      "cell_type": "markdown",
      "metadata": {
        "id": "d3-UOax5wVs3"
      },
      "source": [
        "# **Nota IMPORTANTE**\n",
        "Ahora hemos actualizado los datos para trabajar con la nueva formulación de problemas con visión de futuro. Tenga en cuenta que en esta competencia estará prediciendo el objetivo para TODOS los usuarios en el conjunto de prueba publicado:, test_v2.csvpara sus transacciones en el período futuro del 1 de diciembre de 2018 al 31 de enero de 2019.\n",
        "\n",
        "# **¿Qué archivos necesito?**\n",
        "Deberá descargar train_v2.csv y test_v2.csv . Estos contienen los datos necesarios para hacer predicciones para cada uno de los que se fullVisitorIdenumeran en sample_submission_v2.csv .\n",
        "\n",
        "Lamentablemente, debido a limitaciones de tiempo, la versión de BigQuery de estos datos no estará disponible de inmediato.\n",
        "\n",
        "# **¿Cuál debo esperar que sea el formato de datos?**\n",
        "Tanto train_v2.csv como test_v2.csv contienen las columnas que se enumeran en Campos de datos. Cada fila del conjunto de datos es una visita a la tienda. Debido a que estamos prediciendo el registro de los ingresos totales por usuario , tenga en cuenta que no todas las filas en test_v2.csv corresponderán a una fila en el envío, pero todos los correos electrónicos únicos fullVisitorIdcorresponderán a una fila en el envío.\n",
        "\n",
        "# **IMPORTANTE:** \n",
        "Debido al formato fullVisitorId, debe cargar los Id como cadenas para que todos los Id sean correctamente únicos.\n",
        "Hay varias columnas que contienen blobs JSON de diferente profundidad. En una de esas columnas JSON totals, la subcolumna transactionRevenuecontiene la información de ingresos que estamos tratando de predecir. Esta subcolumna existe solo para los datos de entrenamiento.\n",
        "\n",
        "# **¿Qué estoy prediciendo?**\n",
        "Estamos prediciendo el registro natural de la suma de todas las transacciones por usuario . Una vez que se actualicen los datos, como se indicó anteriormente, esto será para todos los usuarios en test_v2.csv del 1 de diciembre de 2018 al 31 de enero de 2019.\n",
        "Tenga en cuenta que el conjunto de datos NO contiene datos del 1 de diciembre de 2018 al 31 de enero de 2019. Debe identificar los fullVisitorIdcorreos electrónicos únicos en el test_v2.csv proporcionado y hacer predicciones para esos meses no vistos.Para cada usuario del conjunto de prueba, el objetivo es: \n",
        "$$ y_ {usuario} = \\sum_ {i = 1} ^ {n} transacción_ {usuario_i} $$ \n",
        "$$ target_ {usuario} = \\ ln ({y_ {usuario } +1}) $$\n",
        "\n",
        "# **¿Cómo se calculan las tablas de clasificación públicas y privadas?**\n",
        "sample_submission_v2.csvestá compuesto por todos los ID de visitante completos para el período de 05/ 01/ 18 al 10/ 15/ 18. La presentación de la tabla de clasificación pública para este archivo se basa en un período de tiempo diferente al de la tabla de clasificación privada.\n",
        "\n",
        "El Public LB se está calculando para esos visitantes durante el mismo período de 5/ 1/ 18 al 10/ 15/ 18. Todo esto está disponible públicamente para la predicción del objetivo, pero tiene la intención de proporcionar algún medio de señal para aquellos que deseen usarlo de esa manera. El LB privado se está calculando en el marco de tiempo a futuro del 01/ 12/ 18 al 01/ 31/ 19, para ese mismo grupo de usuarios.\n",
        "\n",
        "Por lo tanto, su envío que está destinado al período de tiempo de LB público será diferente del período de tiempo de LB privado, que se volverá a puntuar / recalcular en el marco de tiempo futuro.\n",
        "\n",
        "Sabiendo esto, los competidores deben hacer selecciones explícitas de presentación final para aquellas presentaciones que representen lo que esperan que sean esas predicciones a futuro. Estas selecciones de presentación final para las que esta competencia permite 2, según las reglas, se pueden realizar en \"Mis presentaciones\" antes de la fecha límite de presentación final.\n",
        "\n"
      ]
    },
    {
      "cell_type": "markdown",
      "metadata": {
        "id": "_7Zp503vdv1b"
      },
      "source": [
        "# **Descripciones de archivos**\n",
        "* **train_v2.csv** : Es el conjunto de entrenamiento actualizado, contiene transacciones de usuarios desde el 1 de agosto de 2016 hasta el 30 de abril de 2018.\n",
        "* **test_v2.csv** : Es el conjunto de pruebas actualizado, contiene transacciones de usuarios desde el 1 de mayo de 2018 hasta el 15 de octubre de 2018.\n",
        "* **sample_submission_v2.csv** : Es un archivo de envío de muestra actualizado en el formato correcto. Contiene todos fullVisitorId los mensajes de correo electrónico en test_v2.csv . La PredictedLogRevenuecolumna de su envío debe hacer predicciones prospectivas para cada uno de estos fullVisitorIdcorreos electrónicos para el período del 1 de diciembre de 2018 al 31 de enero de 2019. \n",
        "# **Campos de información**\n",
        "* **fullVisitorId** : un identificador único para cada usuario de Google Merchandise Store.\n",
        "* **channelGrouping**  : el canal a través del cual el usuario llegó a la tienda.\n",
        "* **date**  : la fecha en la que el usuario visitó la Tienda.\n",
        "* **device**  : las especificaciones del dispositivo utilizado para acceder a la Tienda.\n",
        "* **geoNetwork**  : esta sección contiene información sobre la geografía del usuario.\n",
        "* **socialEngagementType**  : tipo de compromiso, ya sea \"Socialmente comprometido\" o \"No socialmente comprometido\".\n",
        "* **totals**  : esta sección contiene valores agregados a lo largo de la sesión.\n",
        "* **trafficSource**  : esta sección contiene información sobre la fuente de tráfico desde la que se originó la sesión.\n",
        "* **visitId**  : un identificador para esta sesión. Esto es parte del valor que normalmente se almacena como cookie _utmb. Esto es exclusivo del usuario. Para obtener un ID completamente único, debe utilizar una combinación de fullVisitorId y visitId.\n",
        "* **visitNumber**  : el número de sesión de este usuario. Si esta es la primera sesión, entonces se establece en 1.\n",
        "* **visitStartTime**  : la marca de tiempo (expresada como hora POSIX).\n",
        "* **hits** : esta fila y los campos anidados se completan para todos y cada uno de los tipos de hits. Proporciona un registro de todas las visitas a la página.\n",
        "* **customDimensions** : esta sección contiene las dimensiones personalizadas de nivel de usuario o de sesión que se establecen para una sesión. Este es un campo repetido y tiene una entrada para cada dimensión que se establece.\n",
        "* **totals**  : este conjunto de columnas incluye principalmente datos agregados de alto nivel.\n",
        "# **Datos externos**\n",
        "Se permiten datos externos para esta competencia, según esta publicación del foro . Esto incluye la cuenta de demostración de Google Merchandise Store . Aunque la cuenta de demostración contiene la variable predicha, la clasificación final no se beneficiará del acceso a estos datos externos, ya que requiere predicciones a futuro."
      ]
    },
    {
      "cell_type": "markdown",
      "metadata": {
        "id": "QiW2NO6g35bY"
      },
      "source": [
        "# ***Conexion a la API de Kaggle***"
      ]
    },
    {
      "cell_type": "code",
      "metadata": {
        "colab": {
          "base_uri": "https://localhost:8080/"
        },
        "id": "18Y66JuineCB",
        "outputId": "5a82529a-8d3a-47f0-d2a0-897e6dae224a"
      },
      "source": [
        "# Info on how to get your api key (kaggle.json) here: https://github.com/Kaggle/kaggle-api#api-credentials\n",
        "# Valeria Quiroz  - Gabriel Zapata, por un problema en la comunicacion con la API toca darle dos veces a play de colab,\n",
        "#la primera veces saca un error la segunda si corre normal\n",
        "!pip install kaggle\n",
        "api_token = {\"username\":\"gabrielzapata\",\"key\":\"45d11139cb4e32995898eae373213b5f\"}\n",
        "import json\n",
        "import zipfile\n",
        "import os\n",
        "with open('/content/kaggle.json', 'w') as file:\n",
        "    json.dump(api_token, file)\n",
        "!mkdir /root/.kaggle      \n",
        "!cp /content/kaggle.json ~/.kaggle/kaggle.json\n",
        "!kaggle config set -n path -v/content\n",
        "!chmod 600 /root/.kaggle/kaggle.json\n",
        "!kaggle competitions download -c ga-customer-revenue-prediction\n",
        "if not os.path.exists(\"/content/competitions/ga-customer-revenue-prediction\"):\n",
        "    os.makedirs(\"/content/competitions/ga-customer-revenue-prediction\")\n",
        "os.chdir('/content/competitions/ga-customer-revenue-prediction')\n",
        "for file in os.listdir():\n",
        "    zip_ref = zipfile.ZipFile(file, 'r')\n",
        "    zip_ref.extractall()\n",
        "    zip_ref.close()"
      ],
      "execution_count": null,
      "outputs": [
        {
          "output_type": "stream",
          "text": [
            "Requirement already satisfied: kaggle in /usr/local/lib/python3.7/dist-packages (1.5.12)\n",
            "Requirement already satisfied: requests in /usr/local/lib/python3.7/dist-packages (from kaggle) (2.23.0)\n",
            "Requirement already satisfied: python-slugify in /usr/local/lib/python3.7/dist-packages (from kaggle) (4.0.1)\n",
            "Requirement already satisfied: urllib3 in /usr/local/lib/python3.7/dist-packages (from kaggle) (1.24.3)\n",
            "Requirement already satisfied: certifi in /usr/local/lib/python3.7/dist-packages (from kaggle) (2020.12.5)\n",
            "Requirement already satisfied: six>=1.10 in /usr/local/lib/python3.7/dist-packages (from kaggle) (1.15.0)\n",
            "Requirement already satisfied: tqdm in /usr/local/lib/python3.7/dist-packages (from kaggle) (4.41.1)\n",
            "Requirement already satisfied: python-dateutil in /usr/local/lib/python3.7/dist-packages (from kaggle) (2.8.1)\n",
            "Requirement already satisfied: chardet<4,>=3.0.2 in /usr/local/lib/python3.7/dist-packages (from requests->kaggle) (3.0.4)\n",
            "Requirement already satisfied: idna<3,>=2.5 in /usr/local/lib/python3.7/dist-packages (from requests->kaggle) (2.10)\n",
            "Requirement already satisfied: text-unidecode>=1.3 in /usr/local/lib/python3.7/dist-packages (from python-slugify->kaggle) (1.3)\n",
            "Warning: Your Kaggle API key is readable by other users on this system! To fix this, you can run 'chmod 600 /root/.kaggle/kaggle.json'\n",
            "- path is now set to: /content\n",
            "Warning: Looks like you're using an outdated API Version, please consider updating (server 1.5.12 / client 1.5.4)\n",
            "Downloading test.csv.zip to /content/competitions/ga-customer-revenue-prediction\n",
            " 72% 41.0M/56.8M [00:01<00:00, 19.9MB/s]\n",
            "100% 56.8M/56.8M [00:01<00:00, 42.0MB/s]\n",
            "Downloading train_v2.csv.zip to /content/competitions/ga-customer-revenue-prediction\n",
            "100% 1.11G/1.11G [00:20<00:00, 44.6MB/s]\n",
            "100% 1.11G/1.11G [00:20<00:00, 59.6MB/s]\n",
            "Downloading sample_submission.csv.zip to /content/competitions/ga-customer-revenue-prediction\n",
            " 96% 5.00M/5.23M [00:00<00:00, 13.9MB/s]\n",
            "100% 5.23M/5.23M [00:00<00:00, 13.2MB/s]\n",
            "Downloading train.csv.zip to /content/competitions/ga-customer-revenue-prediction\n",
            " 80% 49.0M/61.1M [00:01<00:01, 10.7MB/s]\n",
            "100% 61.1M/61.1M [00:01<00:00, 36.2MB/s]\n",
            "Downloading sample_submission_v2.csv.zip to /content/competitions/ga-customer-revenue-prediction\n",
            "  0% 0.00/2.55M [00:00<?, ?B/s]\n",
            "100% 2.55M/2.55M [00:00<00:00, 171MB/s]\n",
            "Downloading test_v2.csv.zip to /content/competitions/ga-customer-revenue-prediction\n",
            " 98% 326M/333M [00:05<00:00, 43.6MB/s]\n",
            "100% 333M/333M [00:05<00:00, 59.0MB/s]\n"
          ],
          "name": "stdout"
        }
      ]
    },
    {
      "cell_type": "code",
      "metadata": {
        "colab": {
          "base_uri": "https://localhost:8080/",
          "height": 235
        },
        "id": "pxV8Rx8OIjue",
        "outputId": "fd0832b8-2ec2-4d09-9678-18d4d3dbc8b3"
      },
      "source": [
        "import pandas as pd\n",
        "\n",
        "Train= pd.read_csv(\"/content/competitions/ga-customer-revenue-prediction/train.csv\", sep = \",\", names = None)\n",
        "display(Train.head(2))"
      ],
      "execution_count": null,
      "outputs": [
        {
          "output_type": "stream",
          "text": [
            "/usr/local/lib/python3.7/dist-packages/IPython/core/interactiveshell.py:2718: DtypeWarning: Columns (3) have mixed types.Specify dtype option on import or set low_memory=False.\n",
            "  interactivity=interactivity, compiler=compiler, result=result)\n"
          ],
          "name": "stderr"
        },
        {
          "output_type": "display_data",
          "data": {
            "text/html": [
              "<div>\n",
              "<style scoped>\n",
              "    .dataframe tbody tr th:only-of-type {\n",
              "        vertical-align: middle;\n",
              "    }\n",
              "\n",
              "    .dataframe tbody tr th {\n",
              "        vertical-align: top;\n",
              "    }\n",
              "\n",
              "    .dataframe thead th {\n",
              "        text-align: right;\n",
              "    }\n",
              "</style>\n",
              "<table border=\"1\" class=\"dataframe\">\n",
              "  <thead>\n",
              "    <tr style=\"text-align: right;\">\n",
              "      <th></th>\n",
              "      <th>channelGrouping</th>\n",
              "      <th>date</th>\n",
              "      <th>device</th>\n",
              "      <th>fullVisitorId</th>\n",
              "      <th>geoNetwork</th>\n",
              "      <th>sessionId</th>\n",
              "      <th>socialEngagementType</th>\n",
              "      <th>totals</th>\n",
              "      <th>trafficSource</th>\n",
              "      <th>visitId</th>\n",
              "      <th>visitNumber</th>\n",
              "      <th>visitStartTime</th>\n",
              "    </tr>\n",
              "  </thead>\n",
              "  <tbody>\n",
              "    <tr>\n",
              "      <th>0</th>\n",
              "      <td>Organic Search</td>\n",
              "      <td>20160902</td>\n",
              "      <td>{\"browser\": \"Chrome\", \"browserVersion\": \"not a...</td>\n",
              "      <td>1131660440785968503</td>\n",
              "      <td>{\"continent\": \"Asia\", \"subContinent\": \"Western...</td>\n",
              "      <td>1131660440785968503_1472830385</td>\n",
              "      <td>Not Socially Engaged</td>\n",
              "      <td>{\"visits\": \"1\", \"hits\": \"1\", \"pageviews\": \"1\",...</td>\n",
              "      <td>{\"campaign\": \"(not set)\", \"source\": \"google\", ...</td>\n",
              "      <td>1472830385</td>\n",
              "      <td>1</td>\n",
              "      <td>1472830385</td>\n",
              "    </tr>\n",
              "    <tr>\n",
              "      <th>1</th>\n",
              "      <td>Organic Search</td>\n",
              "      <td>20160902</td>\n",
              "      <td>{\"browser\": \"Firefox\", \"browserVersion\": \"not ...</td>\n",
              "      <td>377306020877927890</td>\n",
              "      <td>{\"continent\": \"Oceania\", \"subContinent\": \"Aust...</td>\n",
              "      <td>377306020877927890_1472880147</td>\n",
              "      <td>Not Socially Engaged</td>\n",
              "      <td>{\"visits\": \"1\", \"hits\": \"1\", \"pageviews\": \"1\",...</td>\n",
              "      <td>{\"campaign\": \"(not set)\", \"source\": \"google\", ...</td>\n",
              "      <td>1472880147</td>\n",
              "      <td>1</td>\n",
              "      <td>1472880147</td>\n",
              "    </tr>\n",
              "  </tbody>\n",
              "</table>\n",
              "</div>"
            ],
            "text/plain": [
              "  channelGrouping      date  ... visitNumber visitStartTime\n",
              "0  Organic Search  20160902  ...           1     1472830385\n",
              "1  Organic Search  20160902  ...           1     1472880147\n",
              "\n",
              "[2 rows x 12 columns]"
            ]
          },
          "metadata": {
            "tags": []
          }
        }
      ]
    },
    {
      "cell_type": "markdown",
      "metadata": {
        "id": "tindf4e8tN7r"
      },
      "source": [
        "Para liberar Memoria RAM"
      ]
    },
    {
      "cell_type": "code",
      "metadata": {
        "id": "MTCPlH9zsdIL"
      },
      "source": [
        "del Train"
      ],
      "execution_count": null,
      "outputs": []
    },
    {
      "cell_type": "code",
      "metadata": {
        "colab": {
          "base_uri": "https://localhost:8080/",
          "height": 235
        },
        "id": "1IxAT2VJJPw5",
        "outputId": "ed45cb62-1d99-4d54-cc39-aadc77b48703"
      },
      "source": [
        "test = pd.read_csv(\"/content/competitions/ga-customer-revenue-prediction/test.csv\", sep = \",\", names = None)\n",
        "display(test.head(2))"
      ],
      "execution_count": null,
      "outputs": [
        {
          "output_type": "stream",
          "text": [
            "/usr/local/lib/python3.7/dist-packages/IPython/core/interactiveshell.py:2718: DtypeWarning: Columns (3) have mixed types.Specify dtype option on import or set low_memory=False.\n",
            "  interactivity=interactivity, compiler=compiler, result=result)\n"
          ],
          "name": "stderr"
        },
        {
          "output_type": "display_data",
          "data": {
            "text/html": [
              "<div>\n",
              "<style scoped>\n",
              "    .dataframe tbody tr th:only-of-type {\n",
              "        vertical-align: middle;\n",
              "    }\n",
              "\n",
              "    .dataframe tbody tr th {\n",
              "        vertical-align: top;\n",
              "    }\n",
              "\n",
              "    .dataframe thead th {\n",
              "        text-align: right;\n",
              "    }\n",
              "</style>\n",
              "<table border=\"1\" class=\"dataframe\">\n",
              "  <thead>\n",
              "    <tr style=\"text-align: right;\">\n",
              "      <th></th>\n",
              "      <th>channelGrouping</th>\n",
              "      <th>date</th>\n",
              "      <th>device</th>\n",
              "      <th>fullVisitorId</th>\n",
              "      <th>geoNetwork</th>\n",
              "      <th>sessionId</th>\n",
              "      <th>socialEngagementType</th>\n",
              "      <th>totals</th>\n",
              "      <th>trafficSource</th>\n",
              "      <th>visitId</th>\n",
              "      <th>visitNumber</th>\n",
              "      <th>visitStartTime</th>\n",
              "    </tr>\n",
              "  </thead>\n",
              "  <tbody>\n",
              "    <tr>\n",
              "      <th>0</th>\n",
              "      <td>Organic Search</td>\n",
              "      <td>20171016</td>\n",
              "      <td>{\"browser\": \"Chrome\", \"browserVersion\": \"not a...</td>\n",
              "      <td>6167871330617112363</td>\n",
              "      <td>{\"continent\": \"Asia\", \"subContinent\": \"Southea...</td>\n",
              "      <td>6167871330617112363_1508151024</td>\n",
              "      <td>Not Socially Engaged</td>\n",
              "      <td>{\"visits\": \"1\", \"hits\": \"4\", \"pageviews\": \"4\"}</td>\n",
              "      <td>{\"campaign\": \"(not set)\", \"source\": \"google\", ...</td>\n",
              "      <td>1508151024</td>\n",
              "      <td>2</td>\n",
              "      <td>1508151024</td>\n",
              "    </tr>\n",
              "    <tr>\n",
              "      <th>1</th>\n",
              "      <td>Organic Search</td>\n",
              "      <td>20171016</td>\n",
              "      <td>{\"browser\": \"Chrome\", \"browserVersion\": \"not a...</td>\n",
              "      <td>0643697640977915618</td>\n",
              "      <td>{\"continent\": \"Europe\", \"subContinent\": \"South...</td>\n",
              "      <td>0643697640977915618_1508175522</td>\n",
              "      <td>Not Socially Engaged</td>\n",
              "      <td>{\"visits\": \"1\", \"hits\": \"5\", \"pageviews\": \"5\",...</td>\n",
              "      <td>{\"campaign\": \"(not set)\", \"source\": \"google\", ...</td>\n",
              "      <td>1508175522</td>\n",
              "      <td>1</td>\n",
              "      <td>1508175522</td>\n",
              "    </tr>\n",
              "  </tbody>\n",
              "</table>\n",
              "</div>"
            ],
            "text/plain": [
              "  channelGrouping      date  ... visitNumber visitStartTime\n",
              "0  Organic Search  20171016  ...           2     1508151024\n",
              "1  Organic Search  20171016  ...           1     1508175522\n",
              "\n",
              "[2 rows x 12 columns]"
            ]
          },
          "metadata": {
            "tags": []
          }
        }
      ]
    },
    {
      "cell_type": "code",
      "metadata": {
        "id": "Mzd3m6dJtYZm"
      },
      "source": [
        "del test"
      ],
      "execution_count": null,
      "outputs": []
    },
    {
      "cell_type": "markdown",
      "metadata": {
        "id": "20FN8J-KOYun"
      },
      "source": [
        "**Explicacion del codigo json sacado de Kaggle, para aplanar los datos**  :\n",
        "\n",
        "*  **pd.read_csv**: tiene un parámetro opcional llamado convertidores que es un dictado de funciones para convertir valores en ciertas columnas. Las claves pueden ser números enteros o etiquetas de columna.\n",
        "* **json.loads (s)**: es una función que deserializa  (una instancia de str, bytes o bytearray que contiene un documento JSON) a un objeto Python.\n",
        "El conjunto de datos contiene muchos objetos json en los que cada campo debe convertirse en una columna separada, por ejemplo, la columna de totales se ve así:\n",
        "$${\"visitas\": \"1\", \"visitas\": \"1\", \"páginas vistas\": \"1\", \"rebotes\": \"1\", \"nuevas visitas\": \"1\"}$$\n",
        "Lo que necesitamos es tener cada campo como una columna separada: **totals.visits**, **totals.hits** ... etc.\n",
        "Necesitamos desrializar cada uno de estos objetos json en un objeto Python. Esto se puede hacer asignando un dict de nombres json_column, cada uno de ellos asignado a json.loads. Luego, cada uno de estos objetos python, que resultó de la deserialización de un objeto json, debe normalizarse a una tabla plana, es decir, cada campo debe convertirse en una columna separada. Esto se logra usando la utilidad pandas **json_normalize**"
      ]
    },
    {
      "cell_type": "code",
      "metadata": {
        "id": "kFq2damzGXi-"
      },
      "source": [
        "import pandas as pd\n",
        "import numpy as np\n",
        "import random\n",
        "import matplotlib.pyplot as plt\n",
        "from pandas import json_normalize\n",
        "import seaborn as sns \n",
        "from sklearn import model_selection, preprocessing, metrics\n",
        "import lightgbm as lgb\n",
        "import plotly.graph_objs as go\n",
        "from plotly import subplots\n",
        "import plotly.offline as py\n"
      ],
      "execution_count": null,
      "outputs": []
    },
    {
      "cell_type": "code",
      "metadata": {
        "id": "qQfo_Jl5EGJT"
      },
      "source": [
        "def load_df(csv_path='/content/competitions/ga-customer-revenue-prediction/train.csv', nrows=None):\n",
        "    JSON_COLUMNS = ['device', 'geoNetwork', 'totals', 'trafficSource']\n",
        "    \n",
        "    df = pd.read_csv(csv_path, \n",
        "                     converters={column: json.loads for column in JSON_COLUMNS}, \n",
        "                     dtype={'fullVisitorId': 'str'}, # Important!!\n",
        "                     nrows=nrows)\n",
        "    \n",
        "    for column in JSON_COLUMNS:\n",
        "        column_as_df = json_normalize(df[column])\n",
        "        column_as_df.columns = [f\"{column}.{subcolumn}\" for subcolumn in column_as_df.columns]\n",
        "        df = df.drop(column, axis=1).merge(column_as_df, right_index=True, left_index=True)\n",
        "    print(f\"Loaded {os.path.basename(csv_path)}. Shape: {df.shape}\")\n",
        "    return df"
      ],
      "execution_count": null,
      "outputs": []
    },
    {
      "cell_type": "code",
      "metadata": {
        "colab": {
          "base_uri": "https://localhost:8080/"
        },
        "id": "cwvOY0fYENf7",
        "outputId": "0754dc02-2d9a-47ff-8ff5-b1be38d6486a"
      },
      "source": [
        "%%time\n",
        "train_df = load_df()\n",
        "test_df = load_df('/content/competitions/ga-customer-revenue-prediction/test.csv')"
      ],
      "execution_count": null,
      "outputs": [
        {
          "output_type": "stream",
          "text": [
            "Loaded train.csv. Shape: (903653, 55)\n",
            "Loaded test.csv. Shape: (804684, 53)\n",
            "CPU times: user 3min 35s, sys: 9.99 s, total: 3min 45s\n",
            "Wall time: 3min 44s\n"
          ],
          "name": "stdout"
        }
      ]
    },
    {
      "cell_type": "markdown",
      "metadata": {
        "id": "QFDjQJ4aEe7w"
      },
      "source": [
        "# **PRE-PROCESAMIENTO DE LA DATA**"
      ]
    },
    {
      "cell_type": "code",
      "metadata": {
        "colab": {
          "base_uri": "https://localhost:8080/",
          "height": 247
        },
        "id": "3eJ0cOtNLIVt",
        "outputId": "11236537-3857-4b4a-d802-65c8291aaa86"
      },
      "source": [
        "train_df.head(4)"
      ],
      "execution_count": null,
      "outputs": [
        {
          "output_type": "execute_result",
          "data": {
            "text/html": [
              "<div>\n",
              "<style scoped>\n",
              "    .dataframe tbody tr th:only-of-type {\n",
              "        vertical-align: middle;\n",
              "    }\n",
              "\n",
              "    .dataframe tbody tr th {\n",
              "        vertical-align: top;\n",
              "    }\n",
              "\n",
              "    .dataframe thead th {\n",
              "        text-align: right;\n",
              "    }\n",
              "</style>\n",
              "<table border=\"1\" class=\"dataframe\">\n",
              "  <thead>\n",
              "    <tr style=\"text-align: right;\">\n",
              "      <th></th>\n",
              "      <th>channelGrouping</th>\n",
              "      <th>date</th>\n",
              "      <th>fullVisitorId</th>\n",
              "      <th>sessionId</th>\n",
              "      <th>socialEngagementType</th>\n",
              "      <th>visitId</th>\n",
              "      <th>visitNumber</th>\n",
              "      <th>visitStartTime</th>\n",
              "      <th>device.browser</th>\n",
              "      <th>device.browserVersion</th>\n",
              "      <th>device.browserSize</th>\n",
              "      <th>device.operatingSystem</th>\n",
              "      <th>device.operatingSystemVersion</th>\n",
              "      <th>device.isMobile</th>\n",
              "      <th>device.mobileDeviceBranding</th>\n",
              "      <th>device.mobileDeviceModel</th>\n",
              "      <th>device.mobileInputSelector</th>\n",
              "      <th>device.mobileDeviceInfo</th>\n",
              "      <th>device.mobileDeviceMarketingName</th>\n",
              "      <th>device.flashVersion</th>\n",
              "      <th>device.language</th>\n",
              "      <th>device.screenColors</th>\n",
              "      <th>device.screenResolution</th>\n",
              "      <th>device.deviceCategory</th>\n",
              "      <th>geoNetwork.continent</th>\n",
              "      <th>geoNetwork.subContinent</th>\n",
              "      <th>geoNetwork.country</th>\n",
              "      <th>geoNetwork.region</th>\n",
              "      <th>geoNetwork.metro</th>\n",
              "      <th>geoNetwork.city</th>\n",
              "      <th>geoNetwork.cityId</th>\n",
              "      <th>geoNetwork.networkDomain</th>\n",
              "      <th>geoNetwork.latitude</th>\n",
              "      <th>geoNetwork.longitude</th>\n",
              "      <th>geoNetwork.networkLocation</th>\n",
              "      <th>totals.visits</th>\n",
              "      <th>totals.hits</th>\n",
              "      <th>totals.pageviews</th>\n",
              "      <th>totals.bounces</th>\n",
              "      <th>totals.newVisits</th>\n",
              "      <th>totals.transactionRevenue</th>\n",
              "      <th>trafficSource.campaign</th>\n",
              "      <th>trafficSource.source</th>\n",
              "      <th>trafficSource.medium</th>\n",
              "      <th>trafficSource.keyword</th>\n",
              "      <th>trafficSource.adwordsClickInfo.criteriaParameters</th>\n",
              "      <th>trafficSource.isTrueDirect</th>\n",
              "      <th>trafficSource.referralPath</th>\n",
              "      <th>trafficSource.adwordsClickInfo.page</th>\n",
              "      <th>trafficSource.adwordsClickInfo.slot</th>\n",
              "      <th>trafficSource.adwordsClickInfo.gclId</th>\n",
              "      <th>trafficSource.adwordsClickInfo.adNetworkType</th>\n",
              "      <th>trafficSource.adwordsClickInfo.isVideoAd</th>\n",
              "      <th>trafficSource.adContent</th>\n",
              "      <th>trafficSource.campaignCode</th>\n",
              "    </tr>\n",
              "  </thead>\n",
              "  <tbody>\n",
              "    <tr>\n",
              "      <th>0</th>\n",
              "      <td>Organic Search</td>\n",
              "      <td>20160902</td>\n",
              "      <td>1131660440785968503</td>\n",
              "      <td>1131660440785968503_1472830385</td>\n",
              "      <td>Not Socially Engaged</td>\n",
              "      <td>1472830385</td>\n",
              "      <td>1</td>\n",
              "      <td>1472830385</td>\n",
              "      <td>Chrome</td>\n",
              "      <td>not available in demo dataset</td>\n",
              "      <td>not available in demo dataset</td>\n",
              "      <td>Windows</td>\n",
              "      <td>not available in demo dataset</td>\n",
              "      <td>False</td>\n",
              "      <td>not available in demo dataset</td>\n",
              "      <td>not available in demo dataset</td>\n",
              "      <td>not available in demo dataset</td>\n",
              "      <td>not available in demo dataset</td>\n",
              "      <td>not available in demo dataset</td>\n",
              "      <td>not available in demo dataset</td>\n",
              "      <td>not available in demo dataset</td>\n",
              "      <td>not available in demo dataset</td>\n",
              "      <td>not available in demo dataset</td>\n",
              "      <td>desktop</td>\n",
              "      <td>Asia</td>\n",
              "      <td>Western Asia</td>\n",
              "      <td>Turkey</td>\n",
              "      <td>Izmir</td>\n",
              "      <td>(not set)</td>\n",
              "      <td>Izmir</td>\n",
              "      <td>not available in demo dataset</td>\n",
              "      <td>ttnet.com.tr</td>\n",
              "      <td>not available in demo dataset</td>\n",
              "      <td>not available in demo dataset</td>\n",
              "      <td>not available in demo dataset</td>\n",
              "      <td>1</td>\n",
              "      <td>1</td>\n",
              "      <td>1</td>\n",
              "      <td>1</td>\n",
              "      <td>1</td>\n",
              "      <td>NaN</td>\n",
              "      <td>(not set)</td>\n",
              "      <td>google</td>\n",
              "      <td>organic</td>\n",
              "      <td>(not provided)</td>\n",
              "      <td>not available in demo dataset</td>\n",
              "      <td>NaN</td>\n",
              "      <td>NaN</td>\n",
              "      <td>NaN</td>\n",
              "      <td>NaN</td>\n",
              "      <td>NaN</td>\n",
              "      <td>NaN</td>\n",
              "      <td>NaN</td>\n",
              "      <td>NaN</td>\n",
              "      <td>NaN</td>\n",
              "    </tr>\n",
              "    <tr>\n",
              "      <th>1</th>\n",
              "      <td>Organic Search</td>\n",
              "      <td>20160902</td>\n",
              "      <td>377306020877927890</td>\n",
              "      <td>377306020877927890_1472880147</td>\n",
              "      <td>Not Socially Engaged</td>\n",
              "      <td>1472880147</td>\n",
              "      <td>1</td>\n",
              "      <td>1472880147</td>\n",
              "      <td>Firefox</td>\n",
              "      <td>not available in demo dataset</td>\n",
              "      <td>not available in demo dataset</td>\n",
              "      <td>Macintosh</td>\n",
              "      <td>not available in demo dataset</td>\n",
              "      <td>False</td>\n",
              "      <td>not available in demo dataset</td>\n",
              "      <td>not available in demo dataset</td>\n",
              "      <td>not available in demo dataset</td>\n",
              "      <td>not available in demo dataset</td>\n",
              "      <td>not available in demo dataset</td>\n",
              "      <td>not available in demo dataset</td>\n",
              "      <td>not available in demo dataset</td>\n",
              "      <td>not available in demo dataset</td>\n",
              "      <td>not available in demo dataset</td>\n",
              "      <td>desktop</td>\n",
              "      <td>Oceania</td>\n",
              "      <td>Australasia</td>\n",
              "      <td>Australia</td>\n",
              "      <td>not available in demo dataset</td>\n",
              "      <td>not available in demo dataset</td>\n",
              "      <td>not available in demo dataset</td>\n",
              "      <td>not available in demo dataset</td>\n",
              "      <td>dodo.net.au</td>\n",
              "      <td>not available in demo dataset</td>\n",
              "      <td>not available in demo dataset</td>\n",
              "      <td>not available in demo dataset</td>\n",
              "      <td>1</td>\n",
              "      <td>1</td>\n",
              "      <td>1</td>\n",
              "      <td>1</td>\n",
              "      <td>1</td>\n",
              "      <td>NaN</td>\n",
              "      <td>(not set)</td>\n",
              "      <td>google</td>\n",
              "      <td>organic</td>\n",
              "      <td>(not provided)</td>\n",
              "      <td>not available in demo dataset</td>\n",
              "      <td>NaN</td>\n",
              "      <td>NaN</td>\n",
              "      <td>NaN</td>\n",
              "      <td>NaN</td>\n",
              "      <td>NaN</td>\n",
              "      <td>NaN</td>\n",
              "      <td>NaN</td>\n",
              "      <td>NaN</td>\n",
              "      <td>NaN</td>\n",
              "    </tr>\n",
              "    <tr>\n",
              "      <th>2</th>\n",
              "      <td>Organic Search</td>\n",
              "      <td>20160902</td>\n",
              "      <td>3895546263509774583</td>\n",
              "      <td>3895546263509774583_1472865386</td>\n",
              "      <td>Not Socially Engaged</td>\n",
              "      <td>1472865386</td>\n",
              "      <td>1</td>\n",
              "      <td>1472865386</td>\n",
              "      <td>Chrome</td>\n",
              "      <td>not available in demo dataset</td>\n",
              "      <td>not available in demo dataset</td>\n",
              "      <td>Windows</td>\n",
              "      <td>not available in demo dataset</td>\n",
              "      <td>False</td>\n",
              "      <td>not available in demo dataset</td>\n",
              "      <td>not available in demo dataset</td>\n",
              "      <td>not available in demo dataset</td>\n",
              "      <td>not available in demo dataset</td>\n",
              "      <td>not available in demo dataset</td>\n",
              "      <td>not available in demo dataset</td>\n",
              "      <td>not available in demo dataset</td>\n",
              "      <td>not available in demo dataset</td>\n",
              "      <td>not available in demo dataset</td>\n",
              "      <td>desktop</td>\n",
              "      <td>Europe</td>\n",
              "      <td>Southern Europe</td>\n",
              "      <td>Spain</td>\n",
              "      <td>Community of Madrid</td>\n",
              "      <td>(not set)</td>\n",
              "      <td>Madrid</td>\n",
              "      <td>not available in demo dataset</td>\n",
              "      <td>unknown.unknown</td>\n",
              "      <td>not available in demo dataset</td>\n",
              "      <td>not available in demo dataset</td>\n",
              "      <td>not available in demo dataset</td>\n",
              "      <td>1</td>\n",
              "      <td>1</td>\n",
              "      <td>1</td>\n",
              "      <td>1</td>\n",
              "      <td>1</td>\n",
              "      <td>NaN</td>\n",
              "      <td>(not set)</td>\n",
              "      <td>google</td>\n",
              "      <td>organic</td>\n",
              "      <td>(not provided)</td>\n",
              "      <td>not available in demo dataset</td>\n",
              "      <td>NaN</td>\n",
              "      <td>NaN</td>\n",
              "      <td>NaN</td>\n",
              "      <td>NaN</td>\n",
              "      <td>NaN</td>\n",
              "      <td>NaN</td>\n",
              "      <td>NaN</td>\n",
              "      <td>NaN</td>\n",
              "      <td>NaN</td>\n",
              "    </tr>\n",
              "    <tr>\n",
              "      <th>3</th>\n",
              "      <td>Organic Search</td>\n",
              "      <td>20160902</td>\n",
              "      <td>4763447161404445595</td>\n",
              "      <td>4763447161404445595_1472881213</td>\n",
              "      <td>Not Socially Engaged</td>\n",
              "      <td>1472881213</td>\n",
              "      <td>1</td>\n",
              "      <td>1472881213</td>\n",
              "      <td>UC Browser</td>\n",
              "      <td>not available in demo dataset</td>\n",
              "      <td>not available in demo dataset</td>\n",
              "      <td>Linux</td>\n",
              "      <td>not available in demo dataset</td>\n",
              "      <td>False</td>\n",
              "      <td>not available in demo dataset</td>\n",
              "      <td>not available in demo dataset</td>\n",
              "      <td>not available in demo dataset</td>\n",
              "      <td>not available in demo dataset</td>\n",
              "      <td>not available in demo dataset</td>\n",
              "      <td>not available in demo dataset</td>\n",
              "      <td>not available in demo dataset</td>\n",
              "      <td>not available in demo dataset</td>\n",
              "      <td>not available in demo dataset</td>\n",
              "      <td>desktop</td>\n",
              "      <td>Asia</td>\n",
              "      <td>Southeast Asia</td>\n",
              "      <td>Indonesia</td>\n",
              "      <td>not available in demo dataset</td>\n",
              "      <td>not available in demo dataset</td>\n",
              "      <td>not available in demo dataset</td>\n",
              "      <td>not available in demo dataset</td>\n",
              "      <td>unknown.unknown</td>\n",
              "      <td>not available in demo dataset</td>\n",
              "      <td>not available in demo dataset</td>\n",
              "      <td>not available in demo dataset</td>\n",
              "      <td>1</td>\n",
              "      <td>1</td>\n",
              "      <td>1</td>\n",
              "      <td>1</td>\n",
              "      <td>1</td>\n",
              "      <td>NaN</td>\n",
              "      <td>(not set)</td>\n",
              "      <td>google</td>\n",
              "      <td>organic</td>\n",
              "      <td>google + online</td>\n",
              "      <td>not available in demo dataset</td>\n",
              "      <td>NaN</td>\n",
              "      <td>NaN</td>\n",
              "      <td>NaN</td>\n",
              "      <td>NaN</td>\n",
              "      <td>NaN</td>\n",
              "      <td>NaN</td>\n",
              "      <td>NaN</td>\n",
              "      <td>NaN</td>\n",
              "      <td>NaN</td>\n",
              "    </tr>\n",
              "  </tbody>\n",
              "</table>\n",
              "</div>"
            ],
            "text/plain": [
              "  channelGrouping      date  ... trafficSource.adContent trafficSource.campaignCode\n",
              "0  Organic Search  20160902  ...                     NaN                        NaN\n",
              "1  Organic Search  20160902  ...                     NaN                        NaN\n",
              "2  Organic Search  20160902  ...                     NaN                        NaN\n",
              "3  Organic Search  20160902  ...                     NaN                        NaN\n",
              "\n",
              "[4 rows x 55 columns]"
            ]
          },
          "metadata": {
            "tags": []
          },
          "execution_count": 9
        }
      ]
    },
    {
      "cell_type": "code",
      "metadata": {
        "colab": {
          "base_uri": "https://localhost:8080/",
          "height": 263
        },
        "id": "x7BLVsZDEZCw",
        "outputId": "bb53825d-5d9e-4e99-9ab9-ab18866fe4a5"
      },
      "source": [
        "test_df.head(4)"
      ],
      "execution_count": null,
      "outputs": [
        {
          "output_type": "execute_result",
          "data": {
            "text/html": [
              "<div>\n",
              "<style scoped>\n",
              "    .dataframe tbody tr th:only-of-type {\n",
              "        vertical-align: middle;\n",
              "    }\n",
              "\n",
              "    .dataframe tbody tr th {\n",
              "        vertical-align: top;\n",
              "    }\n",
              "\n",
              "    .dataframe thead th {\n",
              "        text-align: right;\n",
              "    }\n",
              "</style>\n",
              "<table border=\"1\" class=\"dataframe\">\n",
              "  <thead>\n",
              "    <tr style=\"text-align: right;\">\n",
              "      <th></th>\n",
              "      <th>channelGrouping</th>\n",
              "      <th>date</th>\n",
              "      <th>fullVisitorId</th>\n",
              "      <th>sessionId</th>\n",
              "      <th>socialEngagementType</th>\n",
              "      <th>visitId</th>\n",
              "      <th>visitNumber</th>\n",
              "      <th>visitStartTime</th>\n",
              "      <th>device.browser</th>\n",
              "      <th>device.browserVersion</th>\n",
              "      <th>device.browserSize</th>\n",
              "      <th>device.operatingSystem</th>\n",
              "      <th>device.operatingSystemVersion</th>\n",
              "      <th>device.isMobile</th>\n",
              "      <th>device.mobileDeviceBranding</th>\n",
              "      <th>device.mobileDeviceModel</th>\n",
              "      <th>device.mobileInputSelector</th>\n",
              "      <th>device.mobileDeviceInfo</th>\n",
              "      <th>device.mobileDeviceMarketingName</th>\n",
              "      <th>device.flashVersion</th>\n",
              "      <th>device.language</th>\n",
              "      <th>device.screenColors</th>\n",
              "      <th>device.screenResolution</th>\n",
              "      <th>device.deviceCategory</th>\n",
              "      <th>geoNetwork.continent</th>\n",
              "      <th>geoNetwork.subContinent</th>\n",
              "      <th>geoNetwork.country</th>\n",
              "      <th>geoNetwork.region</th>\n",
              "      <th>geoNetwork.metro</th>\n",
              "      <th>geoNetwork.city</th>\n",
              "      <th>geoNetwork.cityId</th>\n",
              "      <th>geoNetwork.networkDomain</th>\n",
              "      <th>geoNetwork.latitude</th>\n",
              "      <th>geoNetwork.longitude</th>\n",
              "      <th>geoNetwork.networkLocation</th>\n",
              "      <th>totals.visits</th>\n",
              "      <th>totals.hits</th>\n",
              "      <th>totals.pageviews</th>\n",
              "      <th>totals.newVisits</th>\n",
              "      <th>totals.bounces</th>\n",
              "      <th>trafficSource.campaign</th>\n",
              "      <th>trafficSource.source</th>\n",
              "      <th>trafficSource.medium</th>\n",
              "      <th>trafficSource.keyword</th>\n",
              "      <th>trafficSource.isTrueDirect</th>\n",
              "      <th>trafficSource.adwordsClickInfo.criteriaParameters</th>\n",
              "      <th>trafficSource.adwordsClickInfo.page</th>\n",
              "      <th>trafficSource.adwordsClickInfo.slot</th>\n",
              "      <th>trafficSource.adwordsClickInfo.gclId</th>\n",
              "      <th>trafficSource.adwordsClickInfo.adNetworkType</th>\n",
              "      <th>trafficSource.adwordsClickInfo.isVideoAd</th>\n",
              "      <th>trafficSource.referralPath</th>\n",
              "      <th>trafficSource.adContent</th>\n",
              "    </tr>\n",
              "  </thead>\n",
              "  <tbody>\n",
              "    <tr>\n",
              "      <th>0</th>\n",
              "      <td>Organic Search</td>\n",
              "      <td>20171016</td>\n",
              "      <td>6167871330617112363</td>\n",
              "      <td>6167871330617112363_1508151024</td>\n",
              "      <td>Not Socially Engaged</td>\n",
              "      <td>1508151024</td>\n",
              "      <td>2</td>\n",
              "      <td>1508151024</td>\n",
              "      <td>Chrome</td>\n",
              "      <td>not available in demo dataset</td>\n",
              "      <td>not available in demo dataset</td>\n",
              "      <td>Macintosh</td>\n",
              "      <td>not available in demo dataset</td>\n",
              "      <td>False</td>\n",
              "      <td>not available in demo dataset</td>\n",
              "      <td>not available in demo dataset</td>\n",
              "      <td>not available in demo dataset</td>\n",
              "      <td>not available in demo dataset</td>\n",
              "      <td>not available in demo dataset</td>\n",
              "      <td>not available in demo dataset</td>\n",
              "      <td>not available in demo dataset</td>\n",
              "      <td>not available in demo dataset</td>\n",
              "      <td>not available in demo dataset</td>\n",
              "      <td>desktop</td>\n",
              "      <td>Asia</td>\n",
              "      <td>Southeast Asia</td>\n",
              "      <td>Singapore</td>\n",
              "      <td>(not set)</td>\n",
              "      <td>(not set)</td>\n",
              "      <td>(not set)</td>\n",
              "      <td>not available in demo dataset</td>\n",
              "      <td>myrepublic.com.sg</td>\n",
              "      <td>not available in demo dataset</td>\n",
              "      <td>not available in demo dataset</td>\n",
              "      <td>not available in demo dataset</td>\n",
              "      <td>1</td>\n",
              "      <td>4</td>\n",
              "      <td>4</td>\n",
              "      <td>NaN</td>\n",
              "      <td>NaN</td>\n",
              "      <td>(not set)</td>\n",
              "      <td>google</td>\n",
              "      <td>organic</td>\n",
              "      <td>(not provided)</td>\n",
              "      <td>True</td>\n",
              "      <td>not available in demo dataset</td>\n",
              "      <td>NaN</td>\n",
              "      <td>NaN</td>\n",
              "      <td>NaN</td>\n",
              "      <td>NaN</td>\n",
              "      <td>NaN</td>\n",
              "      <td>NaN</td>\n",
              "      <td>NaN</td>\n",
              "    </tr>\n",
              "    <tr>\n",
              "      <th>1</th>\n",
              "      <td>Organic Search</td>\n",
              "      <td>20171016</td>\n",
              "      <td>0643697640977915618</td>\n",
              "      <td>0643697640977915618_1508175522</td>\n",
              "      <td>Not Socially Engaged</td>\n",
              "      <td>1508175522</td>\n",
              "      <td>1</td>\n",
              "      <td>1508175522</td>\n",
              "      <td>Chrome</td>\n",
              "      <td>not available in demo dataset</td>\n",
              "      <td>not available in demo dataset</td>\n",
              "      <td>Windows</td>\n",
              "      <td>not available in demo dataset</td>\n",
              "      <td>False</td>\n",
              "      <td>not available in demo dataset</td>\n",
              "      <td>not available in demo dataset</td>\n",
              "      <td>not available in demo dataset</td>\n",
              "      <td>not available in demo dataset</td>\n",
              "      <td>not available in demo dataset</td>\n",
              "      <td>not available in demo dataset</td>\n",
              "      <td>not available in demo dataset</td>\n",
              "      <td>not available in demo dataset</td>\n",
              "      <td>not available in demo dataset</td>\n",
              "      <td>desktop</td>\n",
              "      <td>Europe</td>\n",
              "      <td>Southern Europe</td>\n",
              "      <td>Spain</td>\n",
              "      <td>Aragon</td>\n",
              "      <td>(not set)</td>\n",
              "      <td>Zaragoza</td>\n",
              "      <td>not available in demo dataset</td>\n",
              "      <td>rima-tde.net</td>\n",
              "      <td>not available in demo dataset</td>\n",
              "      <td>not available in demo dataset</td>\n",
              "      <td>not available in demo dataset</td>\n",
              "      <td>1</td>\n",
              "      <td>5</td>\n",
              "      <td>5</td>\n",
              "      <td>1</td>\n",
              "      <td>NaN</td>\n",
              "      <td>(not set)</td>\n",
              "      <td>google</td>\n",
              "      <td>organic</td>\n",
              "      <td>(not provided)</td>\n",
              "      <td>NaN</td>\n",
              "      <td>not available in demo dataset</td>\n",
              "      <td>NaN</td>\n",
              "      <td>NaN</td>\n",
              "      <td>NaN</td>\n",
              "      <td>NaN</td>\n",
              "      <td>NaN</td>\n",
              "      <td>NaN</td>\n",
              "      <td>NaN</td>\n",
              "    </tr>\n",
              "    <tr>\n",
              "      <th>2</th>\n",
              "      <td>Organic Search</td>\n",
              "      <td>20171016</td>\n",
              "      <td>6059383810968229466</td>\n",
              "      <td>6059383810968229466_1508143220</td>\n",
              "      <td>Not Socially Engaged</td>\n",
              "      <td>1508143220</td>\n",
              "      <td>1</td>\n",
              "      <td>1508143220</td>\n",
              "      <td>Chrome</td>\n",
              "      <td>not available in demo dataset</td>\n",
              "      <td>not available in demo dataset</td>\n",
              "      <td>Macintosh</td>\n",
              "      <td>not available in demo dataset</td>\n",
              "      <td>False</td>\n",
              "      <td>not available in demo dataset</td>\n",
              "      <td>not available in demo dataset</td>\n",
              "      <td>not available in demo dataset</td>\n",
              "      <td>not available in demo dataset</td>\n",
              "      <td>not available in demo dataset</td>\n",
              "      <td>not available in demo dataset</td>\n",
              "      <td>not available in demo dataset</td>\n",
              "      <td>not available in demo dataset</td>\n",
              "      <td>not available in demo dataset</td>\n",
              "      <td>desktop</td>\n",
              "      <td>Europe</td>\n",
              "      <td>Western Europe</td>\n",
              "      <td>France</td>\n",
              "      <td>not available in demo dataset</td>\n",
              "      <td>not available in demo dataset</td>\n",
              "      <td>not available in demo dataset</td>\n",
              "      <td>not available in demo dataset</td>\n",
              "      <td>sfr.net</td>\n",
              "      <td>not available in demo dataset</td>\n",
              "      <td>not available in demo dataset</td>\n",
              "      <td>not available in demo dataset</td>\n",
              "      <td>1</td>\n",
              "      <td>7</td>\n",
              "      <td>7</td>\n",
              "      <td>1</td>\n",
              "      <td>NaN</td>\n",
              "      <td>(not set)</td>\n",
              "      <td>google</td>\n",
              "      <td>organic</td>\n",
              "      <td>(not provided)</td>\n",
              "      <td>NaN</td>\n",
              "      <td>not available in demo dataset</td>\n",
              "      <td>NaN</td>\n",
              "      <td>NaN</td>\n",
              "      <td>NaN</td>\n",
              "      <td>NaN</td>\n",
              "      <td>NaN</td>\n",
              "      <td>NaN</td>\n",
              "      <td>NaN</td>\n",
              "    </tr>\n",
              "    <tr>\n",
              "      <th>3</th>\n",
              "      <td>Organic Search</td>\n",
              "      <td>20171016</td>\n",
              "      <td>2376720078563423631</td>\n",
              "      <td>2376720078563423631_1508193530</td>\n",
              "      <td>Not Socially Engaged</td>\n",
              "      <td>1508193530</td>\n",
              "      <td>1</td>\n",
              "      <td>1508193530</td>\n",
              "      <td>Safari</td>\n",
              "      <td>not available in demo dataset</td>\n",
              "      <td>not available in demo dataset</td>\n",
              "      <td>iOS</td>\n",
              "      <td>not available in demo dataset</td>\n",
              "      <td>True</td>\n",
              "      <td>not available in demo dataset</td>\n",
              "      <td>not available in demo dataset</td>\n",
              "      <td>not available in demo dataset</td>\n",
              "      <td>not available in demo dataset</td>\n",
              "      <td>not available in demo dataset</td>\n",
              "      <td>not available in demo dataset</td>\n",
              "      <td>not available in demo dataset</td>\n",
              "      <td>not available in demo dataset</td>\n",
              "      <td>not available in demo dataset</td>\n",
              "      <td>mobile</td>\n",
              "      <td>Americas</td>\n",
              "      <td>Northern America</td>\n",
              "      <td>United States</td>\n",
              "      <td>California</td>\n",
              "      <td>San Francisco-Oakland-San Jose CA</td>\n",
              "      <td>Mountain View</td>\n",
              "      <td>not available in demo dataset</td>\n",
              "      <td>(not set)</td>\n",
              "      <td>not available in demo dataset</td>\n",
              "      <td>not available in demo dataset</td>\n",
              "      <td>not available in demo dataset</td>\n",
              "      <td>1</td>\n",
              "      <td>8</td>\n",
              "      <td>4</td>\n",
              "      <td>1</td>\n",
              "      <td>NaN</td>\n",
              "      <td>(not set)</td>\n",
              "      <td>google</td>\n",
              "      <td>organic</td>\n",
              "      <td>(not provided)</td>\n",
              "      <td>NaN</td>\n",
              "      <td>not available in demo dataset</td>\n",
              "      <td>NaN</td>\n",
              "      <td>NaN</td>\n",
              "      <td>NaN</td>\n",
              "      <td>NaN</td>\n",
              "      <td>NaN</td>\n",
              "      <td>NaN</td>\n",
              "      <td>NaN</td>\n",
              "    </tr>\n",
              "  </tbody>\n",
              "</table>\n",
              "</div>"
            ],
            "text/plain": [
              "  channelGrouping      date  ... trafficSource.referralPath trafficSource.adContent\n",
              "0  Organic Search  20171016  ...                        NaN                     NaN\n",
              "1  Organic Search  20171016  ...                        NaN                     NaN\n",
              "2  Organic Search  20171016  ...                        NaN                     NaN\n",
              "3  Organic Search  20171016  ...                        NaN                     NaN\n",
              "\n",
              "[4 rows x 53 columns]"
            ]
          },
          "metadata": {
            "tags": []
          },
          "execution_count": 10
        }
      ]
    },
    {
      "cell_type": "code",
      "metadata": {
        "colab": {
          "base_uri": "https://localhost:8080/"
        },
        "id": "7lL54YJSgQF-",
        "outputId": "220b9537-0317-49f0-e011-6ae23c390293"
      },
      "source": [
        "train_df.columns.tolist()"
      ],
      "execution_count": null,
      "outputs": [
        {
          "output_type": "execute_result",
          "data": {
            "text/plain": [
              "['channelGrouping',\n",
              " 'date',\n",
              " 'fullVisitorId',\n",
              " 'sessionId',\n",
              " 'socialEngagementType',\n",
              " 'visitId',\n",
              " 'visitNumber',\n",
              " 'visitStartTime',\n",
              " 'device.browser',\n",
              " 'device.browserVersion',\n",
              " 'device.browserSize',\n",
              " 'device.operatingSystem',\n",
              " 'device.operatingSystemVersion',\n",
              " 'device.isMobile',\n",
              " 'device.mobileDeviceBranding',\n",
              " 'device.mobileDeviceModel',\n",
              " 'device.mobileInputSelector',\n",
              " 'device.mobileDeviceInfo',\n",
              " 'device.mobileDeviceMarketingName',\n",
              " 'device.flashVersion',\n",
              " 'device.language',\n",
              " 'device.screenColors',\n",
              " 'device.screenResolution',\n",
              " 'device.deviceCategory',\n",
              " 'geoNetwork.continent',\n",
              " 'geoNetwork.subContinent',\n",
              " 'geoNetwork.country',\n",
              " 'geoNetwork.region',\n",
              " 'geoNetwork.metro',\n",
              " 'geoNetwork.city',\n",
              " 'geoNetwork.cityId',\n",
              " 'geoNetwork.networkDomain',\n",
              " 'geoNetwork.latitude',\n",
              " 'geoNetwork.longitude',\n",
              " 'geoNetwork.networkLocation',\n",
              " 'totals.visits',\n",
              " 'totals.hits',\n",
              " 'totals.pageviews',\n",
              " 'totals.bounces',\n",
              " 'totals.newVisits',\n",
              " 'totals.transactionRevenue',\n",
              " 'trafficSource.campaign',\n",
              " 'trafficSource.source',\n",
              " 'trafficSource.medium',\n",
              " 'trafficSource.keyword',\n",
              " 'trafficSource.adwordsClickInfo.criteriaParameters',\n",
              " 'trafficSource.isTrueDirect',\n",
              " 'trafficSource.referralPath',\n",
              " 'trafficSource.adwordsClickInfo.page',\n",
              " 'trafficSource.adwordsClickInfo.slot',\n",
              " 'trafficSource.adwordsClickInfo.gclId',\n",
              " 'trafficSource.adwordsClickInfo.adNetworkType',\n",
              " 'trafficSource.adwordsClickInfo.isVideoAd',\n",
              " 'trafficSource.adContent',\n",
              " 'trafficSource.campaignCode']"
            ]
          },
          "metadata": {
            "tags": []
          },
          "execution_count": 11
        }
      ]
    },
    {
      "cell_type": "code",
      "metadata": {
        "colab": {
          "base_uri": "https://localhost:8080/"
        },
        "id": "EAyigV1wPfad",
        "outputId": "d6f024ed-1917-4b02-8b18-c0723b253759"
      },
      "source": [
        "test_df.columns.tolist()"
      ],
      "execution_count": null,
      "outputs": [
        {
          "output_type": "execute_result",
          "data": {
            "text/plain": [
              "['channelGrouping',\n",
              " 'date',\n",
              " 'fullVisitorId',\n",
              " 'sessionId',\n",
              " 'socialEngagementType',\n",
              " 'visitId',\n",
              " 'visitNumber',\n",
              " 'visitStartTime',\n",
              " 'device.browser',\n",
              " 'device.browserVersion',\n",
              " 'device.browserSize',\n",
              " 'device.operatingSystem',\n",
              " 'device.operatingSystemVersion',\n",
              " 'device.isMobile',\n",
              " 'device.mobileDeviceBranding',\n",
              " 'device.mobileDeviceModel',\n",
              " 'device.mobileInputSelector',\n",
              " 'device.mobileDeviceInfo',\n",
              " 'device.mobileDeviceMarketingName',\n",
              " 'device.flashVersion',\n",
              " 'device.language',\n",
              " 'device.screenColors',\n",
              " 'device.screenResolution',\n",
              " 'device.deviceCategory',\n",
              " 'geoNetwork.continent',\n",
              " 'geoNetwork.subContinent',\n",
              " 'geoNetwork.country',\n",
              " 'geoNetwork.region',\n",
              " 'geoNetwork.metro',\n",
              " 'geoNetwork.city',\n",
              " 'geoNetwork.cityId',\n",
              " 'geoNetwork.networkDomain',\n",
              " 'geoNetwork.latitude',\n",
              " 'geoNetwork.longitude',\n",
              " 'geoNetwork.networkLocation',\n",
              " 'totals.visits',\n",
              " 'totals.hits',\n",
              " 'totals.pageviews',\n",
              " 'totals.newVisits',\n",
              " 'totals.bounces',\n",
              " 'trafficSource.campaign',\n",
              " 'trafficSource.source',\n",
              " 'trafficSource.medium',\n",
              " 'trafficSource.keyword',\n",
              " 'trafficSource.isTrueDirect',\n",
              " 'trafficSource.adwordsClickInfo.criteriaParameters',\n",
              " 'trafficSource.adwordsClickInfo.page',\n",
              " 'trafficSource.adwordsClickInfo.slot',\n",
              " 'trafficSource.adwordsClickInfo.gclId',\n",
              " 'trafficSource.adwordsClickInfo.adNetworkType',\n",
              " 'trafficSource.adwordsClickInfo.isVideoAd',\n",
              " 'trafficSource.referralPath',\n",
              " 'trafficSource.adContent']"
            ]
          },
          "metadata": {
            "tags": []
          },
          "execution_count": 12
        }
      ]
    },
    {
      "cell_type": "code",
      "metadata": {
        "colab": {
          "base_uri": "https://localhost:8080/"
        },
        "id": "etQ8sypojhIL",
        "outputId": "74197338-81f9-4926-ca5f-c526beb55edb"
      },
      "source": [
        "train_df.dtypes"
      ],
      "execution_count": null,
      "outputs": [
        {
          "output_type": "execute_result",
          "data": {
            "text/plain": [
              "channelGrouping                                      object\n",
              "date                                                  int64\n",
              "fullVisitorId                                        object\n",
              "sessionId                                            object\n",
              "socialEngagementType                                 object\n",
              "visitId                                               int64\n",
              "visitNumber                                           int64\n",
              "visitStartTime                                        int64\n",
              "device.browser                                       object\n",
              "device.browserVersion                                object\n",
              "device.browserSize                                   object\n",
              "device.operatingSystem                               object\n",
              "device.operatingSystemVersion                        object\n",
              "device.isMobile                                        bool\n",
              "device.mobileDeviceBranding                          object\n",
              "device.mobileDeviceModel                             object\n",
              "device.mobileInputSelector                           object\n",
              "device.mobileDeviceInfo                              object\n",
              "device.mobileDeviceMarketingName                     object\n",
              "device.flashVersion                                  object\n",
              "device.language                                      object\n",
              "device.screenColors                                  object\n",
              "device.screenResolution                              object\n",
              "device.deviceCategory                                object\n",
              "geoNetwork.continent                                 object\n",
              "geoNetwork.subContinent                              object\n",
              "geoNetwork.country                                   object\n",
              "geoNetwork.region                                    object\n",
              "geoNetwork.metro                                     object\n",
              "geoNetwork.city                                      object\n",
              "geoNetwork.cityId                                    object\n",
              "geoNetwork.networkDomain                             object\n",
              "geoNetwork.latitude                                  object\n",
              "geoNetwork.longitude                                 object\n",
              "geoNetwork.networkLocation                           object\n",
              "totals.visits                                        object\n",
              "totals.hits                                          object\n",
              "totals.pageviews                                     object\n",
              "totals.bounces                                       object\n",
              "totals.newVisits                                     object\n",
              "totals.transactionRevenue                            object\n",
              "trafficSource.campaign                               object\n",
              "trafficSource.source                                 object\n",
              "trafficSource.medium                                 object\n",
              "trafficSource.keyword                                object\n",
              "trafficSource.adwordsClickInfo.criteriaParameters    object\n",
              "trafficSource.isTrueDirect                           object\n",
              "trafficSource.referralPath                           object\n",
              "trafficSource.adwordsClickInfo.page                  object\n",
              "trafficSource.adwordsClickInfo.slot                  object\n",
              "trafficSource.adwordsClickInfo.gclId                 object\n",
              "trafficSource.adwordsClickInfo.adNetworkType         object\n",
              "trafficSource.adwordsClickInfo.isVideoAd             object\n",
              "trafficSource.adContent                              object\n",
              "trafficSource.campaignCode                           object\n",
              "dtype: object"
            ]
          },
          "metadata": {
            "tags": []
          },
          "execution_count": 13
        }
      ]
    },
    {
      "cell_type": "code",
      "metadata": {
        "colab": {
          "base_uri": "https://localhost:8080/"
        },
        "id": "fk7QCYn3QSvN",
        "outputId": "97e137dc-2d65-46ee-8688-53174577faa2"
      },
      "source": [
        "test_df.dtypes"
      ],
      "execution_count": null,
      "outputs": [
        {
          "output_type": "execute_result",
          "data": {
            "text/plain": [
              "channelGrouping                                      object\n",
              "date                                                  int64\n",
              "fullVisitorId                                        object\n",
              "sessionId                                            object\n",
              "socialEngagementType                                 object\n",
              "visitId                                               int64\n",
              "visitNumber                                           int64\n",
              "visitStartTime                                        int64\n",
              "device.browser                                       object\n",
              "device.browserVersion                                object\n",
              "device.browserSize                                   object\n",
              "device.operatingSystem                               object\n",
              "device.operatingSystemVersion                        object\n",
              "device.isMobile                                        bool\n",
              "device.mobileDeviceBranding                          object\n",
              "device.mobileDeviceModel                             object\n",
              "device.mobileInputSelector                           object\n",
              "device.mobileDeviceInfo                              object\n",
              "device.mobileDeviceMarketingName                     object\n",
              "device.flashVersion                                  object\n",
              "device.language                                      object\n",
              "device.screenColors                                  object\n",
              "device.screenResolution                              object\n",
              "device.deviceCategory                                object\n",
              "geoNetwork.continent                                 object\n",
              "geoNetwork.subContinent                              object\n",
              "geoNetwork.country                                   object\n",
              "geoNetwork.region                                    object\n",
              "geoNetwork.metro                                     object\n",
              "geoNetwork.city                                      object\n",
              "geoNetwork.cityId                                    object\n",
              "geoNetwork.networkDomain                             object\n",
              "geoNetwork.latitude                                  object\n",
              "geoNetwork.longitude                                 object\n",
              "geoNetwork.networkLocation                           object\n",
              "totals.visits                                        object\n",
              "totals.hits                                          object\n",
              "totals.pageviews                                     object\n",
              "totals.newVisits                                     object\n",
              "totals.bounces                                       object\n",
              "trafficSource.campaign                               object\n",
              "trafficSource.source                                 object\n",
              "trafficSource.medium                                 object\n",
              "trafficSource.keyword                                object\n",
              "trafficSource.isTrueDirect                           object\n",
              "trafficSource.adwordsClickInfo.criteriaParameters    object\n",
              "trafficSource.adwordsClickInfo.page                  object\n",
              "trafficSource.adwordsClickInfo.slot                  object\n",
              "trafficSource.adwordsClickInfo.gclId                 object\n",
              "trafficSource.adwordsClickInfo.adNetworkType         object\n",
              "trafficSource.adwordsClickInfo.isVideoAd             object\n",
              "trafficSource.referralPath                           object\n",
              "trafficSource.adContent                              object\n",
              "dtype: object"
            ]
          },
          "metadata": {
            "tags": []
          },
          "execution_count": 14
        }
      ]
    },
    {
      "cell_type": "markdown",
      "metadata": {
        "id": "jrbyY1_LQ3Y2"
      },
      "source": [
        "Explorando datos Constantes "
      ]
    },
    {
      "cell_type": "code",
      "metadata": {
        "colab": {
          "base_uri": "https://localhost:8080/"
        },
        "id": "z0ArmB24DODl",
        "outputId": "106605bf-928a-4916-ef1e-764a4bf71d87"
      },
      "source": [
        "const_cols = [col for col in train_df.columns if train_df[col].nunique(dropna = False) == 1]\n",
        "const_cols"
      ],
      "execution_count": null,
      "outputs": [
        {
          "output_type": "execute_result",
          "data": {
            "text/plain": [
              "['socialEngagementType',\n",
              " 'device.browserVersion',\n",
              " 'device.browserSize',\n",
              " 'device.operatingSystemVersion',\n",
              " 'device.mobileDeviceBranding',\n",
              " 'device.mobileDeviceModel',\n",
              " 'device.mobileInputSelector',\n",
              " 'device.mobileDeviceInfo',\n",
              " 'device.mobileDeviceMarketingName',\n",
              " 'device.flashVersion',\n",
              " 'device.language',\n",
              " 'device.screenColors',\n",
              " 'device.screenResolution',\n",
              " 'geoNetwork.cityId',\n",
              " 'geoNetwork.latitude',\n",
              " 'geoNetwork.longitude',\n",
              " 'geoNetwork.networkLocation',\n",
              " 'totals.visits',\n",
              " 'trafficSource.adwordsClickInfo.criteriaParameters']"
            ]
          },
          "metadata": {
            "tags": []
          },
          "execution_count": 15
        }
      ]
    },
    {
      "cell_type": "code",
      "metadata": {
        "colab": {
          "base_uri": "https://localhost:8080/"
        },
        "id": "BnP1bMB8R1Ju",
        "outputId": "3403505f-726d-4b29-f4dd-6c3337c8006e"
      },
      "source": [
        "const_cols1 = [col for col in test_df.columns if test_df[col].nunique(dropna = False) == 1]\n",
        "const_cols1"
      ],
      "execution_count": null,
      "outputs": [
        {
          "output_type": "execute_result",
          "data": {
            "text/plain": [
              "['socialEngagementType',\n",
              " 'device.browserVersion',\n",
              " 'device.browserSize',\n",
              " 'device.operatingSystemVersion',\n",
              " 'device.mobileDeviceBranding',\n",
              " 'device.mobileDeviceModel',\n",
              " 'device.mobileInputSelector',\n",
              " 'device.mobileDeviceInfo',\n",
              " 'device.mobileDeviceMarketingName',\n",
              " 'device.flashVersion',\n",
              " 'device.language',\n",
              " 'device.screenColors',\n",
              " 'device.screenResolution',\n",
              " 'geoNetwork.cityId',\n",
              " 'geoNetwork.latitude',\n",
              " 'geoNetwork.longitude',\n",
              " 'geoNetwork.networkLocation',\n",
              " 'totals.visits',\n",
              " 'trafficSource.adwordsClickInfo.criteriaParameters']"
            ]
          },
          "metadata": {
            "tags": []
          },
          "execution_count": 16
        }
      ]
    },
    {
      "cell_type": "code",
      "metadata": {
        "colab": {
          "base_uri": "https://localhost:8080/"
        },
        "id": "ZwBKwkXjBXXC",
        "outputId": "38f1a04b-e26f-45de-be9a-a3f1ac450945"
      },
      "source": [
        "print(train_df.shape,test_df.shape)"
      ],
      "execution_count": null,
      "outputs": [
        {
          "output_type": "stream",
          "text": [
            "(903653, 55) (804684, 53)\n"
          ],
          "name": "stdout"
        }
      ]
    },
    {
      "cell_type": "code",
      "metadata": {
        "colab": {
          "base_uri": "https://localhost:8080/",
          "height": 817
        },
        "id": "dPeT_Q00j4Yv",
        "outputId": "2046775a-cb82-4154-baec-28297f16dec2"
      },
      "source": [
        "import datetime\n",
        "\n",
        "def scatter_plot(cnt_srs, color):\n",
        "    trace = go.Scatter(\n",
        "        x=cnt_srs.index[::-1],\n",
        "        y=cnt_srs.values[::-1],\n",
        "        showlegend=False,\n",
        "        marker=dict(\n",
        "            color=color,\n",
        "        ),\n",
        "    )\n",
        "    return trace\n",
        "###\n",
        "train_df['date'] = train_df['date'].apply(lambda x: datetime.date(int(str(x)[:4]), int(str(x)[4:6]), int(str(x)[6:])))\n",
        "cnt_srs = train_df.groupby('date')['totals.transactionRevenue'].agg(['size', 'count'])\n",
        "cnt_srs.columns = [\"count\", \"count of non-zero revenue\"]\n",
        "cnt_srs = cnt_srs.sort_index()\n",
        "\n",
        "trace1 = scatter_plot(cnt_srs[\"count\"], 'red')\n",
        "trace2 = scatter_plot(cnt_srs[\"count of non-zero revenue\"], 'blue')\n",
        "\n",
        "fig = subplots.make_subplots(rows=2, cols=1, vertical_spacing=0.08,\n",
        "                          subplot_titles=[\"Date - Count\", \"Date - Non-zero Revenue count\"])\n",
        "fig.append_trace(trace1, 1, 1)\n",
        "fig.append_trace(trace2, 2, 1)\n",
        "fig['layout'].update(height=800, width=800, paper_bgcolor='rgb(233,233,233)', title=\"Date Plots\")\n",
        "py.iplot(fig, filename='date-plots')"
      ],
      "execution_count": null,
      "outputs": [
        {
          "output_type": "display_data",
          "data": {
            "text/html": [
              "<html>\n",
              "<head><meta charset=\"utf-8\" /></head>\n",
              "<body>\n",
              "    <div>\n",
              "            <script src=\"https://cdnjs.cloudflare.com/ajax/libs/mathjax/2.7.5/MathJax.js?config=TeX-AMS-MML_SVG\"></script><script type=\"text/javascript\">if (window.MathJax) {MathJax.Hub.Config({SVG: {font: \"STIX-Web\"}});}</script>\n",
              "                <script type=\"text/javascript\">window.PlotlyConfig = {MathJaxConfig: 'local'};</script>\n",
              "        <script src=\"https://cdn.plot.ly/plotly-latest.min.js\"></script>    \n",
              "            <div id=\"ab1409cc-c430-4ae3-8599-12f25f4d732e\" class=\"plotly-graph-div\" style=\"height:800px; width:800px;\"></div>\n",
              "            <script type=\"text/javascript\">\n",
              "                \n",
              "                    window.PLOTLYENV=window.PLOTLYENV || {};\n",
              "                    \n",
              "                if (document.getElementById(\"ab1409cc-c430-4ae3-8599-12f25f4d732e\")) {\n",
              "                    Plotly.newPlot(\n",
              "                        'ab1409cc-c430-4ae3-8599-12f25f4d732e',\n",
              "                        [{\"marker\": {\"color\": \"red\"}, \"showlegend\": false, \"type\": \"scatter\", \"x\": [\"2017-08-01\", \"2017-07-31\", \"2017-07-30\", \"2017-07-29\", \"2017-07-28\", \"2017-07-27\", \"2017-07-26\", \"2017-07-25\", \"2017-07-24\", \"2017-07-23\", \"2017-07-22\", \"2017-07-21\", \"2017-07-20\", \"2017-07-19\", \"2017-07-18\", \"2017-07-17\", \"2017-07-16\", \"2017-07-15\", \"2017-07-14\", \"2017-07-13\", \"2017-07-12\", \"2017-07-11\", \"2017-07-10\", \"2017-07-09\", \"2017-07-08\", \"2017-07-07\", \"2017-07-06\", \"2017-07-05\", \"2017-07-04\", \"2017-07-03\", \"2017-07-02\", \"2017-07-01\", \"2017-06-30\", \"2017-06-29\", \"2017-06-28\", \"2017-06-27\", \"2017-06-26\", \"2017-06-25\", \"2017-06-24\", \"2017-06-23\", \"2017-06-22\", \"2017-06-21\", \"2017-06-20\", \"2017-06-19\", \"2017-06-18\", \"2017-06-17\", \"2017-06-16\", \"2017-06-15\", \"2017-06-14\", \"2017-06-13\", \"2017-06-12\", \"2017-06-11\", \"2017-06-10\", \"2017-06-09\", \"2017-06-08\", \"2017-06-07\", \"2017-06-06\", \"2017-06-05\", \"2017-06-04\", \"2017-06-03\", \"2017-06-02\", \"2017-06-01\", \"2017-05-31\", \"2017-05-30\", \"2017-05-29\", \"2017-05-28\", \"2017-05-27\", \"2017-05-26\", \"2017-05-25\", \"2017-05-24\", \"2017-05-23\", \"2017-05-22\", \"2017-05-21\", \"2017-05-20\", \"2017-05-19\", \"2017-05-18\", \"2017-05-17\", \"2017-05-16\", \"2017-05-15\", \"2017-05-14\", \"2017-05-13\", \"2017-05-12\", \"2017-05-11\", \"2017-05-10\", \"2017-05-09\", \"2017-05-08\", \"2017-05-07\", \"2017-05-06\", \"2017-05-05\", \"2017-05-04\", \"2017-05-03\", \"2017-05-02\", \"2017-05-01\", \"2017-04-30\", \"2017-04-29\", \"2017-04-28\", \"2017-04-27\", \"2017-04-26\", \"2017-04-25\", \"2017-04-24\", \"2017-04-23\", \"2017-04-22\", \"2017-04-21\", \"2017-04-20\", \"2017-04-19\", \"2017-04-18\", \"2017-04-17\", \"2017-04-16\", \"2017-04-15\", \"2017-04-14\", \"2017-04-13\", \"2017-04-12\", \"2017-04-11\", \"2017-04-10\", \"2017-04-09\", \"2017-04-08\", \"2017-04-07\", \"2017-04-06\", \"2017-04-05\", \"2017-04-04\", \"2017-04-03\", \"2017-04-02\", \"2017-04-01\", \"2017-03-31\", \"2017-03-30\", \"2017-03-29\", \"2017-03-28\", \"2017-03-27\", \"2017-03-26\", \"2017-03-25\", \"2017-03-24\", \"2017-03-23\", \"2017-03-22\", \"2017-03-21\", \"2017-03-20\", \"2017-03-19\", \"2017-03-18\", \"2017-03-17\", \"2017-03-16\", \"2017-03-15\", \"2017-03-14\", \"2017-03-13\", \"2017-03-12\", \"2017-03-11\", \"2017-03-10\", \"2017-03-09\", \"2017-03-08\", \"2017-03-07\", \"2017-03-06\", \"2017-03-05\", \"2017-03-04\", \"2017-03-03\", \"2017-03-02\", \"2017-03-01\", \"2017-02-28\", \"2017-02-27\", \"2017-02-26\", \"2017-02-25\", \"2017-02-24\", \"2017-02-23\", \"2017-02-22\", \"2017-02-21\", \"2017-02-20\", \"2017-02-19\", \"2017-02-18\", \"2017-02-17\", \"2017-02-16\", \"2017-02-15\", \"2017-02-14\", \"2017-02-13\", \"2017-02-12\", \"2017-02-11\", \"2017-02-10\", \"2017-02-09\", \"2017-02-08\", \"2017-02-07\", \"2017-02-06\", \"2017-02-05\", \"2017-02-04\", \"2017-02-03\", \"2017-02-02\", \"2017-02-01\", \"2017-01-31\", \"2017-01-30\", \"2017-01-29\", \"2017-01-28\", \"2017-01-27\", \"2017-01-26\", \"2017-01-25\", \"2017-01-24\", \"2017-01-23\", \"2017-01-22\", \"2017-01-21\", \"2017-01-20\", \"2017-01-19\", \"2017-01-18\", \"2017-01-17\", \"2017-01-16\", \"2017-01-15\", \"2017-01-14\", \"2017-01-13\", \"2017-01-12\", \"2017-01-11\", \"2017-01-10\", \"2017-01-09\", \"2017-01-08\", \"2017-01-07\", \"2017-01-06\", \"2017-01-05\", \"2017-01-04\", \"2017-01-03\", \"2017-01-02\", \"2017-01-01\", \"2016-12-31\", \"2016-12-30\", \"2016-12-29\", \"2016-12-28\", \"2016-12-27\", \"2016-12-26\", \"2016-12-25\", \"2016-12-24\", \"2016-12-23\", \"2016-12-22\", \"2016-12-21\", \"2016-12-20\", \"2016-12-19\", \"2016-12-18\", \"2016-12-17\", \"2016-12-16\", \"2016-12-15\", \"2016-12-14\", \"2016-12-13\", \"2016-12-12\", \"2016-12-11\", \"2016-12-10\", \"2016-12-09\", \"2016-12-08\", \"2016-12-07\", \"2016-12-06\", \"2016-12-05\", \"2016-12-04\", \"2016-12-03\", \"2016-12-02\", \"2016-12-01\", \"2016-11-30\", \"2016-11-29\", \"2016-11-28\", \"2016-11-27\", \"2016-11-26\", \"2016-11-25\", \"2016-11-24\", \"2016-11-23\", \"2016-11-22\", \"2016-11-21\", \"2016-11-20\", \"2016-11-19\", \"2016-11-18\", \"2016-11-17\", \"2016-11-16\", \"2016-11-15\", \"2016-11-14\", \"2016-11-13\", \"2016-11-12\", \"2016-11-11\", \"2016-11-10\", \"2016-11-09\", \"2016-11-08\", \"2016-11-07\", \"2016-11-06\", \"2016-11-05\", \"2016-11-04\", \"2016-11-03\", \"2016-11-02\", \"2016-11-01\", \"2016-10-31\", \"2016-10-30\", \"2016-10-29\", \"2016-10-28\", \"2016-10-27\", \"2016-10-26\", \"2016-10-25\", \"2016-10-24\", \"2016-10-23\", \"2016-10-22\", \"2016-10-21\", \"2016-10-20\", \"2016-10-19\", \"2016-10-18\", \"2016-10-17\", \"2016-10-16\", \"2016-10-15\", \"2016-10-14\", \"2016-10-13\", \"2016-10-12\", \"2016-10-11\", \"2016-10-10\", \"2016-10-09\", \"2016-10-08\", \"2016-10-07\", \"2016-10-06\", \"2016-10-05\", \"2016-10-04\", \"2016-10-03\", \"2016-10-02\", \"2016-10-01\", \"2016-09-30\", \"2016-09-29\", \"2016-09-28\", \"2016-09-27\", \"2016-09-26\", \"2016-09-25\", \"2016-09-24\", \"2016-09-23\", \"2016-09-22\", \"2016-09-21\", \"2016-09-20\", \"2016-09-19\", \"2016-09-18\", \"2016-09-17\", \"2016-09-16\", \"2016-09-15\", \"2016-09-14\", \"2016-09-13\", \"2016-09-12\", \"2016-09-11\", \"2016-09-10\", \"2016-09-09\", \"2016-09-08\", \"2016-09-07\", \"2016-09-06\", \"2016-09-05\", \"2016-09-04\", \"2016-09-03\", \"2016-09-02\", \"2016-09-01\", \"2016-08-31\", \"2016-08-30\", \"2016-08-29\", \"2016-08-28\", \"2016-08-27\", \"2016-08-26\", \"2016-08-25\", \"2016-08-24\", \"2016-08-23\", \"2016-08-22\", \"2016-08-21\", \"2016-08-20\", \"2016-08-19\", \"2016-08-18\", \"2016-08-17\", \"2016-08-16\", \"2016-08-15\", \"2016-08-14\", \"2016-08-13\", \"2016-08-12\", \"2016-08-11\", \"2016-08-10\", \"2016-08-09\", \"2016-08-08\", \"2016-08-07\", \"2016-08-06\", \"2016-08-05\", \"2016-08-04\", \"2016-08-03\", \"2016-08-02\", \"2016-08-01\"], \"xaxis\": \"x\", \"y\": [2556, 2620, 1799, 1597, 2433, 2529, 2725, 2631, 2436, 1966, 1724, 2427, 2668, 2514, 2804, 2671, 1766, 1721, 2382, 2741, 2554, 2635, 2769, 1921, 1859, 2450, 2658, 2885, 1938, 2046, 1895, 2048, 2499, 2709, 2687, 2789, 2226, 1597, 1510, 2095, 2258, 2357, 2143, 2142, 1432, 1391, 2028, 2237, 2517, 2181, 2361, 1555, 1545, 1927, 2280, 2279, 2391, 2493, 1534, 1399, 2190, 2826, 2292, 2199, 1745, 1463, 1502, 2009, 2228, 2406, 2129, 2248, 1645, 1855, 2223, 2715, 3117, 3098, 2360, 1290, 1251, 1932, 2218, 2024, 2108, 2025, 1400, 1383, 1960, 2806, 2588, 2564, 2588, 1594, 1566, 2411, 2838, 4224, 2354, 2263, 1548, 1612, 2210, 2374, 2397, 2391, 2279, 1507, 1506, 1834, 2300, 2341, 2464, 2563, 1766, 1829, 2297, 2647, 2619, 2978, 2383, 1861, 2170, 2268, 2731, 2525, 2577, 2525, 1768, 1712, 2374, 2847, 2582, 2611, 2383, 1776, 1610, 2129, 2409, 2486, 2338, 2537, 1781, 1707, 2194, 2231, 2449, 2586, 2396, 1827, 1753, 2162, 2267, 2390, 2347, 2352, 1643, 1638, 2093, 2364, 2477, 2582, 2374, 2187, 1755, 2785, 2539, 2629, 2379, 2266, 1790, 1761, 2199, 2678, 2570, 2476, 2238, 1522, 1549, 2182, 2372, 2445, 2229, 2392, 1814, 1614, 1969, 2209, 2986, 3618, 2262, 1700, 1685, 2074, 2083, 2245, 2443, 1906, 1576, 1526, 1967, 2203, 2185, 2268, 2308, 1637, 1615, 2210, 2193, 2390, 2403, 1620, 1364, 1211, 1232, 1647, 1763, 1855, 1586, 1386, 1231, 1604, 2100, 2594, 3110, 3222, 2128, 2324, 2956, 2937, 3040, 3166, 3433, 2208, 2207, 2830, 3013, 2840, 3021, 4265, 3220, 3044, 3751, 4200, 4435, 4337, 4807, 3356, 3213, 3759, 3770, 3805, 3942, 4143, 3247, 2984, 3654, 4074, 4334, 4685, 4466, 3144, 3119, 3588, 4055, 3752, 3899, 3832, 3232, 3042, 3596, 4014, 3960, 3728, 3827, 3086, 2964, 3791, 4162, 4375, 3842, 4063, 2971, 3029, 3419, 3755, 3544, 3628, 3397, 2649, 2495, 2838, 2964, 2871, 2850, 2911, 2134, 2114, 2892, 3016, 3770, 4322, 2514, 1724, 1589, 2303, 2597, 2535, 2727, 2776, 1877, 1845, 2381, 2581, 2720, 2760, 2689, 1822, 1853, 2603, 2949, 2652, 2396, 2465, 1725, 1671, 2549, 2628, 2562, 2508, 2125, 1692, 1741, 2613, 2687, 3223, 2675, 2454, 1682, 1654, 2359, 2539, 2627, 2754, 2584, 1730, 1664, 2379, 2725, 2799, 2873, 3043, 1801, 1596, 2619, 2667, 2757, 2851, 2815, 1622, 1663, 2702, 3161, 2890, 2140, 1711], \"yaxis\": \"y\"}, {\"marker\": {\"color\": \"blue\"}, \"showlegend\": false, \"type\": \"scatter\", \"x\": [\"2017-08-01\", \"2017-07-31\", \"2017-07-30\", \"2017-07-29\", \"2017-07-28\", \"2017-07-27\", \"2017-07-26\", \"2017-07-25\", \"2017-07-24\", \"2017-07-23\", \"2017-07-22\", \"2017-07-21\", \"2017-07-20\", \"2017-07-19\", \"2017-07-18\", \"2017-07-17\", \"2017-07-16\", \"2017-07-15\", \"2017-07-14\", \"2017-07-13\", \"2017-07-12\", \"2017-07-11\", \"2017-07-10\", \"2017-07-09\", \"2017-07-08\", \"2017-07-07\", \"2017-07-06\", \"2017-07-05\", \"2017-07-04\", \"2017-07-03\", \"2017-07-02\", \"2017-07-01\", \"2017-06-30\", \"2017-06-29\", \"2017-06-28\", \"2017-06-27\", \"2017-06-26\", \"2017-06-25\", \"2017-06-24\", \"2017-06-23\", \"2017-06-22\", \"2017-06-21\", \"2017-06-20\", \"2017-06-19\", \"2017-06-18\", \"2017-06-17\", \"2017-06-16\", \"2017-06-15\", \"2017-06-14\", \"2017-06-13\", \"2017-06-12\", \"2017-06-11\", \"2017-06-10\", \"2017-06-09\", \"2017-06-08\", \"2017-06-07\", \"2017-06-06\", \"2017-06-05\", \"2017-06-04\", \"2017-06-03\", \"2017-06-02\", \"2017-06-01\", \"2017-05-31\", \"2017-05-30\", \"2017-05-29\", \"2017-05-28\", \"2017-05-27\", \"2017-05-26\", \"2017-05-25\", \"2017-05-24\", \"2017-05-23\", \"2017-05-22\", \"2017-05-21\", \"2017-05-20\", \"2017-05-19\", \"2017-05-18\", \"2017-05-17\", \"2017-05-16\", \"2017-05-15\", \"2017-05-14\", \"2017-05-13\", \"2017-05-12\", \"2017-05-11\", \"2017-05-10\", \"2017-05-09\", \"2017-05-08\", \"2017-05-07\", \"2017-05-06\", \"2017-05-05\", \"2017-05-04\", \"2017-05-03\", \"2017-05-02\", \"2017-05-01\", \"2017-04-30\", \"2017-04-29\", \"2017-04-28\", \"2017-04-27\", \"2017-04-26\", \"2017-04-25\", \"2017-04-24\", \"2017-04-23\", \"2017-04-22\", \"2017-04-21\", \"2017-04-20\", \"2017-04-19\", \"2017-04-18\", \"2017-04-17\", \"2017-04-16\", \"2017-04-15\", \"2017-04-14\", \"2017-04-13\", \"2017-04-12\", \"2017-04-11\", \"2017-04-10\", \"2017-04-09\", \"2017-04-08\", \"2017-04-07\", \"2017-04-06\", \"2017-04-05\", \"2017-04-04\", \"2017-04-03\", \"2017-04-02\", \"2017-04-01\", \"2017-03-31\", \"2017-03-30\", \"2017-03-29\", \"2017-03-28\", \"2017-03-27\", \"2017-03-26\", \"2017-03-25\", \"2017-03-24\", \"2017-03-23\", \"2017-03-22\", \"2017-03-21\", \"2017-03-20\", \"2017-03-19\", \"2017-03-18\", \"2017-03-17\", \"2017-03-16\", \"2017-03-15\", \"2017-03-14\", \"2017-03-13\", \"2017-03-12\", \"2017-03-11\", \"2017-03-10\", \"2017-03-09\", \"2017-03-08\", \"2017-03-07\", \"2017-03-06\", \"2017-03-05\", \"2017-03-04\", \"2017-03-03\", \"2017-03-02\", \"2017-03-01\", \"2017-02-28\", \"2017-02-27\", \"2017-02-26\", \"2017-02-25\", \"2017-02-24\", \"2017-02-23\", \"2017-02-22\", \"2017-02-21\", \"2017-02-20\", \"2017-02-19\", \"2017-02-18\", \"2017-02-17\", \"2017-02-16\", \"2017-02-15\", \"2017-02-14\", \"2017-02-13\", \"2017-02-12\", \"2017-02-11\", \"2017-02-10\", \"2017-02-09\", \"2017-02-08\", \"2017-02-07\", \"2017-02-06\", \"2017-02-05\", \"2017-02-04\", \"2017-02-03\", \"2017-02-02\", \"2017-02-01\", \"2017-01-31\", \"2017-01-30\", \"2017-01-29\", \"2017-01-28\", \"2017-01-27\", \"2017-01-26\", \"2017-01-25\", \"2017-01-24\", \"2017-01-23\", \"2017-01-22\", \"2017-01-21\", \"2017-01-20\", \"2017-01-19\", \"2017-01-18\", \"2017-01-17\", \"2017-01-16\", \"2017-01-15\", \"2017-01-14\", \"2017-01-13\", \"2017-01-12\", \"2017-01-11\", \"2017-01-10\", \"2017-01-09\", \"2017-01-08\", \"2017-01-07\", \"2017-01-06\", \"2017-01-05\", \"2017-01-04\", \"2017-01-03\", \"2017-01-02\", \"2017-01-01\", \"2016-12-31\", \"2016-12-30\", \"2016-12-29\", \"2016-12-28\", \"2016-12-27\", \"2016-12-26\", \"2016-12-25\", \"2016-12-24\", \"2016-12-23\", \"2016-12-22\", \"2016-12-21\", \"2016-12-20\", \"2016-12-19\", \"2016-12-18\", \"2016-12-17\", \"2016-12-16\", \"2016-12-15\", \"2016-12-14\", \"2016-12-13\", \"2016-12-12\", \"2016-12-11\", \"2016-12-10\", \"2016-12-09\", \"2016-12-08\", \"2016-12-07\", \"2016-12-06\", \"2016-12-05\", \"2016-12-04\", \"2016-12-03\", \"2016-12-02\", \"2016-12-01\", \"2016-11-30\", \"2016-11-29\", \"2016-11-28\", \"2016-11-27\", \"2016-11-26\", \"2016-11-25\", \"2016-11-24\", \"2016-11-23\", \"2016-11-22\", \"2016-11-21\", \"2016-11-20\", \"2016-11-19\", \"2016-11-18\", \"2016-11-17\", \"2016-11-16\", \"2016-11-15\", \"2016-11-14\", \"2016-11-13\", \"2016-11-12\", \"2016-11-11\", \"2016-11-10\", \"2016-11-09\", \"2016-11-08\", \"2016-11-07\", \"2016-11-06\", \"2016-11-05\", \"2016-11-04\", \"2016-11-03\", \"2016-11-02\", \"2016-11-01\", \"2016-10-31\", \"2016-10-30\", \"2016-10-29\", \"2016-10-28\", \"2016-10-27\", \"2016-10-26\", \"2016-10-25\", \"2016-10-24\", \"2016-10-23\", \"2016-10-22\", \"2016-10-21\", \"2016-10-20\", \"2016-10-19\", \"2016-10-18\", \"2016-10-17\", \"2016-10-16\", \"2016-10-15\", \"2016-10-14\", \"2016-10-13\", \"2016-10-12\", \"2016-10-11\", \"2016-10-10\", \"2016-10-09\", \"2016-10-08\", \"2016-10-07\", \"2016-10-06\", \"2016-10-05\", \"2016-10-04\", \"2016-10-03\", \"2016-10-02\", \"2016-10-01\", \"2016-09-30\", \"2016-09-29\", \"2016-09-28\", \"2016-09-27\", \"2016-09-26\", \"2016-09-25\", \"2016-09-24\", \"2016-09-23\", \"2016-09-22\", \"2016-09-21\", \"2016-09-20\", \"2016-09-19\", \"2016-09-18\", \"2016-09-17\", \"2016-09-16\", \"2016-09-15\", \"2016-09-14\", \"2016-09-13\", \"2016-09-12\", \"2016-09-11\", \"2016-09-10\", \"2016-09-09\", \"2016-09-08\", \"2016-09-07\", \"2016-09-06\", \"2016-09-05\", \"2016-09-04\", \"2016-09-03\", \"2016-09-02\", \"2016-09-01\", \"2016-08-31\", \"2016-08-30\", \"2016-08-29\", \"2016-08-28\", \"2016-08-27\", \"2016-08-26\", \"2016-08-25\", \"2016-08-24\", \"2016-08-23\", \"2016-08-22\", \"2016-08-21\", \"2016-08-20\", \"2016-08-19\", \"2016-08-18\", \"2016-08-17\", \"2016-08-16\", \"2016-08-15\", \"2016-08-14\", \"2016-08-13\", \"2016-08-12\", \"2016-08-11\", \"2016-08-10\", \"2016-08-09\", \"2016-08-08\", \"2016-08-07\", \"2016-08-06\", \"2016-08-05\", \"2016-08-04\", \"2016-08-03\", \"2016-08-02\", \"2016-08-01\"], \"xaxis\": \"x2\", \"y\": [43, 61, 22, 19, 42, 49, 41, 36, 38, 16, 17, 41, 40, 56, 50, 49, 27, 16, 44, 62, 48, 40, 44, 19, 14, 38, 30, 41, 7, 13, 8, 3, 33, 44, 31, 40, 32, 19, 10, 26, 36, 34, 35, 39, 25, 18, 36, 35, 45, 48, 61, 26, 12, 35, 24, 37, 29, 35, 15, 15, 36, 35, 39, 39, 18, 9, 16, 31, 35, 36, 32, 23, 22, 30, 39, 34, 38, 51, 37, 10, 23, 54, 44, 40, 46, 48, 11, 12, 35, 48, 70, 67, 78, 27, 20, 59, 42, 42, 33, 24, 12, 15, 42, 39, 38, 47, 37, 14, 7, 39, 37, 45, 29, 36, 10, 18, 43, 41, 32, 39, 36, 13, 12, 17, 38, 49, 44, 46, 14, 13, 30, 24, 37, 33, 35, 17, 17, 31, 29, 31, 32, 35, 11, 13, 32, 28, 24, 35, 30, 28, 26, 25, 27, 32, 29, 27, 9, 12, 25, 30, 34, 25, 21, 15, 13, 67, 32, 27, 51, 30, 16, 10, 24, 28, 24, 23, 28, 12, 14, 29, 26, 27, 39, 33, 19, 4, 21, 27, 34, 28, 27, 10, 11, 18, 27, 36, 32, 13, 6, 11, 28, 22, 17, 23, 38, 11, 8, 26, 41, 29, 29, 18, 11, 10, 13, 22, 25, 17, 15, 18, 19, 19, 33, 35, 67, 69, 38, 43, 87, 72, 65, 77, 83, 49, 37, 72, 66, 49, 70, 76, 36, 22, 41, 50, 57, 46, 73, 18, 13, 29, 15, 31, 21, 39, 13, 16, 35, 45, 33, 32, 39, 16, 15, 22, 25, 29, 44, 41, 21, 20, 37, 34, 27, 33, 28, 16, 11, 30, 40, 38, 21, 33, 28, 14, 33, 30, 29, 32, 40, 20, 9, 21, 30, 37, 43, 38, 22, 12, 39, 33, 44, 35, 35, 25, 6, 25, 32, 39, 35, 42, 18, 12, 24, 33, 39, 45, 36, 15, 8, 39, 32, 42, 21, 28, 17, 13, 39, 46, 33, 38, 16, 9, 13, 27, 43, 32, 34, 43, 22, 15, 39, 62, 47, 57, 57, 23, 21, 50, 43, 40, 59, 65, 23, 14, 71, 45, 46, 42, 34, 16, 10, 41, 17, 0, 17, 34], \"yaxis\": \"y2\"}],\n",
              "                        {\"annotations\": [{\"font\": {\"size\": 16}, \"showarrow\": false, \"text\": \"Date - Count\", \"x\": 0.5, \"xanchor\": \"center\", \"xref\": \"paper\", \"y\": 1.0, \"yanchor\": \"bottom\", \"yref\": \"paper\"}, {\"font\": {\"size\": 16}, \"showarrow\": false, \"text\": \"Date - Non-zero Revenue count\", \"x\": 0.5, \"xanchor\": \"center\", \"xref\": \"paper\", \"y\": 0.46, \"yanchor\": \"bottom\", \"yref\": \"paper\"}], \"height\": 800, \"paper_bgcolor\": \"rgb(233,233,233)\", \"template\": {\"data\": {\"bar\": [{\"error_x\": {\"color\": \"#2a3f5f\"}, \"error_y\": {\"color\": \"#2a3f5f\"}, \"marker\": {\"line\": {\"color\": \"#E5ECF6\", \"width\": 0.5}}, \"type\": \"bar\"}], \"barpolar\": [{\"marker\": {\"line\": {\"color\": \"#E5ECF6\", \"width\": 0.5}}, \"type\": \"barpolar\"}], \"carpet\": [{\"aaxis\": {\"endlinecolor\": \"#2a3f5f\", \"gridcolor\": \"white\", \"linecolor\": \"white\", \"minorgridcolor\": \"white\", \"startlinecolor\": \"#2a3f5f\"}, \"baxis\": {\"endlinecolor\": \"#2a3f5f\", \"gridcolor\": \"white\", \"linecolor\": \"white\", \"minorgridcolor\": \"white\", \"startlinecolor\": \"#2a3f5f\"}, \"type\": \"carpet\"}], \"choropleth\": [{\"colorbar\": {\"outlinewidth\": 0, \"ticks\": \"\"}, \"type\": \"choropleth\"}], \"contour\": [{\"colorbar\": {\"outlinewidth\": 0, \"ticks\": \"\"}, \"colorscale\": [[0.0, \"#0d0887\"], [0.1111111111111111, \"#46039f\"], [0.2222222222222222, \"#7201a8\"], [0.3333333333333333, \"#9c179e\"], [0.4444444444444444, \"#bd3786\"], [0.5555555555555556, \"#d8576b\"], [0.6666666666666666, \"#ed7953\"], [0.7777777777777778, \"#fb9f3a\"], [0.8888888888888888, \"#fdca26\"], [1.0, \"#f0f921\"]], \"type\": \"contour\"}], \"contourcarpet\": [{\"colorbar\": {\"outlinewidth\": 0, \"ticks\": \"\"}, \"type\": \"contourcarpet\"}], \"heatmap\": [{\"colorbar\": {\"outlinewidth\": 0, \"ticks\": \"\"}, \"colorscale\": [[0.0, \"#0d0887\"], [0.1111111111111111, \"#46039f\"], [0.2222222222222222, \"#7201a8\"], [0.3333333333333333, \"#9c179e\"], [0.4444444444444444, \"#bd3786\"], [0.5555555555555556, \"#d8576b\"], [0.6666666666666666, \"#ed7953\"], [0.7777777777777778, \"#fb9f3a\"], [0.8888888888888888, \"#fdca26\"], [1.0, \"#f0f921\"]], \"type\": \"heatmap\"}], \"heatmapgl\": [{\"colorbar\": {\"outlinewidth\": 0, \"ticks\": \"\"}, \"colorscale\": [[0.0, \"#0d0887\"], [0.1111111111111111, \"#46039f\"], [0.2222222222222222, \"#7201a8\"], [0.3333333333333333, \"#9c179e\"], [0.4444444444444444, \"#bd3786\"], [0.5555555555555556, \"#d8576b\"], [0.6666666666666666, \"#ed7953\"], [0.7777777777777778, \"#fb9f3a\"], [0.8888888888888888, \"#fdca26\"], [1.0, \"#f0f921\"]], \"type\": \"heatmapgl\"}], \"histogram\": [{\"marker\": {\"colorbar\": {\"outlinewidth\": 0, \"ticks\": \"\"}}, \"type\": \"histogram\"}], \"histogram2d\": [{\"colorbar\": {\"outlinewidth\": 0, \"ticks\": \"\"}, \"colorscale\": [[0.0, \"#0d0887\"], [0.1111111111111111, \"#46039f\"], [0.2222222222222222, \"#7201a8\"], [0.3333333333333333, \"#9c179e\"], [0.4444444444444444, \"#bd3786\"], [0.5555555555555556, \"#d8576b\"], [0.6666666666666666, \"#ed7953\"], [0.7777777777777778, \"#fb9f3a\"], [0.8888888888888888, \"#fdca26\"], [1.0, \"#f0f921\"]], \"type\": \"histogram2d\"}], \"histogram2dcontour\": [{\"colorbar\": {\"outlinewidth\": 0, \"ticks\": \"\"}, \"colorscale\": [[0.0, \"#0d0887\"], [0.1111111111111111, \"#46039f\"], [0.2222222222222222, \"#7201a8\"], [0.3333333333333333, \"#9c179e\"], [0.4444444444444444, \"#bd3786\"], [0.5555555555555556, \"#d8576b\"], [0.6666666666666666, \"#ed7953\"], [0.7777777777777778, \"#fb9f3a\"], [0.8888888888888888, \"#fdca26\"], [1.0, \"#f0f921\"]], \"type\": \"histogram2dcontour\"}], \"mesh3d\": [{\"colorbar\": {\"outlinewidth\": 0, \"ticks\": \"\"}, \"type\": \"mesh3d\"}], \"parcoords\": [{\"line\": {\"colorbar\": {\"outlinewidth\": 0, \"ticks\": \"\"}}, \"type\": \"parcoords\"}], \"pie\": [{\"automargin\": true, \"type\": \"pie\"}], \"scatter\": [{\"marker\": {\"colorbar\": {\"outlinewidth\": 0, \"ticks\": \"\"}}, \"type\": \"scatter\"}], \"scatter3d\": [{\"line\": {\"colorbar\": {\"outlinewidth\": 0, \"ticks\": \"\"}}, \"marker\": {\"colorbar\": {\"outlinewidth\": 0, \"ticks\": \"\"}}, \"type\": \"scatter3d\"}], \"scattercarpet\": [{\"marker\": {\"colorbar\": {\"outlinewidth\": 0, \"ticks\": \"\"}}, \"type\": \"scattercarpet\"}], \"scattergeo\": [{\"marker\": {\"colorbar\": {\"outlinewidth\": 0, \"ticks\": \"\"}}, \"type\": \"scattergeo\"}], \"scattergl\": [{\"marker\": {\"colorbar\": {\"outlinewidth\": 0, \"ticks\": \"\"}}, \"type\": \"scattergl\"}], \"scattermapbox\": [{\"marker\": {\"colorbar\": {\"outlinewidth\": 0, \"ticks\": \"\"}}, \"type\": \"scattermapbox\"}], \"scatterpolar\": [{\"marker\": {\"colorbar\": {\"outlinewidth\": 0, \"ticks\": \"\"}}, \"type\": \"scatterpolar\"}], \"scatterpolargl\": [{\"marker\": {\"colorbar\": {\"outlinewidth\": 0, \"ticks\": \"\"}}, \"type\": \"scatterpolargl\"}], \"scatterternary\": [{\"marker\": {\"colorbar\": {\"outlinewidth\": 0, \"ticks\": \"\"}}, \"type\": \"scatterternary\"}], \"surface\": [{\"colorbar\": {\"outlinewidth\": 0, \"ticks\": \"\"}, \"colorscale\": [[0.0, \"#0d0887\"], [0.1111111111111111, \"#46039f\"], [0.2222222222222222, \"#7201a8\"], [0.3333333333333333, \"#9c179e\"], [0.4444444444444444, \"#bd3786\"], [0.5555555555555556, \"#d8576b\"], [0.6666666666666666, \"#ed7953\"], [0.7777777777777778, \"#fb9f3a\"], [0.8888888888888888, \"#fdca26\"], [1.0, \"#f0f921\"]], \"type\": \"surface\"}], \"table\": [{\"cells\": {\"fill\": {\"color\": \"#EBF0F8\"}, \"line\": {\"color\": \"white\"}}, \"header\": {\"fill\": {\"color\": \"#C8D4E3\"}, \"line\": {\"color\": \"white\"}}, \"type\": \"table\"}]}, \"layout\": {\"annotationdefaults\": {\"arrowcolor\": \"#2a3f5f\", \"arrowhead\": 0, \"arrowwidth\": 1}, \"coloraxis\": {\"colorbar\": {\"outlinewidth\": 0, \"ticks\": \"\"}}, \"colorscale\": {\"diverging\": [[0, \"#8e0152\"], [0.1, \"#c51b7d\"], [0.2, \"#de77ae\"], [0.3, \"#f1b6da\"], [0.4, \"#fde0ef\"], [0.5, \"#f7f7f7\"], [0.6, \"#e6f5d0\"], [0.7, \"#b8e186\"], [0.8, \"#7fbc41\"], [0.9, \"#4d9221\"], [1, \"#276419\"]], \"sequential\": [[0.0, \"#0d0887\"], [0.1111111111111111, \"#46039f\"], [0.2222222222222222, \"#7201a8\"], [0.3333333333333333, \"#9c179e\"], [0.4444444444444444, \"#bd3786\"], [0.5555555555555556, \"#d8576b\"], [0.6666666666666666, \"#ed7953\"], [0.7777777777777778, \"#fb9f3a\"], [0.8888888888888888, \"#fdca26\"], [1.0, \"#f0f921\"]], \"sequentialminus\": [[0.0, \"#0d0887\"], [0.1111111111111111, \"#46039f\"], [0.2222222222222222, \"#7201a8\"], [0.3333333333333333, \"#9c179e\"], [0.4444444444444444, \"#bd3786\"], [0.5555555555555556, \"#d8576b\"], [0.6666666666666666, \"#ed7953\"], [0.7777777777777778, \"#fb9f3a\"], [0.8888888888888888, \"#fdca26\"], [1.0, \"#f0f921\"]]}, \"colorway\": [\"#636efa\", \"#EF553B\", \"#00cc96\", \"#ab63fa\", \"#FFA15A\", \"#19d3f3\", \"#FF6692\", \"#B6E880\", \"#FF97FF\", \"#FECB52\"], \"font\": {\"color\": \"#2a3f5f\"}, \"geo\": {\"bgcolor\": \"white\", \"lakecolor\": \"white\", \"landcolor\": \"#E5ECF6\", \"showlakes\": true, \"showland\": true, \"subunitcolor\": \"white\"}, \"hoverlabel\": {\"align\": \"left\"}, \"hovermode\": \"closest\", \"mapbox\": {\"style\": \"light\"}, \"paper_bgcolor\": \"white\", \"plot_bgcolor\": \"#E5ECF6\", \"polar\": {\"angularaxis\": {\"gridcolor\": \"white\", \"linecolor\": \"white\", \"ticks\": \"\"}, \"bgcolor\": \"#E5ECF6\", \"radialaxis\": {\"gridcolor\": \"white\", \"linecolor\": \"white\", \"ticks\": \"\"}}, \"scene\": {\"xaxis\": {\"backgroundcolor\": \"#E5ECF6\", \"gridcolor\": \"white\", \"gridwidth\": 2, \"linecolor\": \"white\", \"showbackground\": true, \"ticks\": \"\", \"zerolinecolor\": \"white\"}, \"yaxis\": {\"backgroundcolor\": \"#E5ECF6\", \"gridcolor\": \"white\", \"gridwidth\": 2, \"linecolor\": \"white\", \"showbackground\": true, \"ticks\": \"\", \"zerolinecolor\": \"white\"}, \"zaxis\": {\"backgroundcolor\": \"#E5ECF6\", \"gridcolor\": \"white\", \"gridwidth\": 2, \"linecolor\": \"white\", \"showbackground\": true, \"ticks\": \"\", \"zerolinecolor\": \"white\"}}, \"shapedefaults\": {\"line\": {\"color\": \"#2a3f5f\"}}, \"ternary\": {\"aaxis\": {\"gridcolor\": \"white\", \"linecolor\": \"white\", \"ticks\": \"\"}, \"baxis\": {\"gridcolor\": \"white\", \"linecolor\": \"white\", \"ticks\": \"\"}, \"bgcolor\": \"#E5ECF6\", \"caxis\": {\"gridcolor\": \"white\", \"linecolor\": \"white\", \"ticks\": \"\"}}, \"title\": {\"x\": 0.05}, \"xaxis\": {\"automargin\": true, \"gridcolor\": \"white\", \"linecolor\": \"white\", \"ticks\": \"\", \"title\": {\"standoff\": 15}, \"zerolinecolor\": \"white\", \"zerolinewidth\": 2}, \"yaxis\": {\"automargin\": true, \"gridcolor\": \"white\", \"linecolor\": \"white\", \"ticks\": \"\", \"title\": {\"standoff\": 15}, \"zerolinecolor\": \"white\", \"zerolinewidth\": 2}}}, \"title\": {\"text\": \"Date Plots\"}, \"width\": 800, \"xaxis\": {\"anchor\": \"y\", \"domain\": [0.0, 1.0]}, \"xaxis2\": {\"anchor\": \"y2\", \"domain\": [0.0, 1.0]}, \"yaxis\": {\"anchor\": \"x\", \"domain\": [0.54, 1.0]}, \"yaxis2\": {\"anchor\": \"x2\", \"domain\": [0.0, 0.46]}},\n",
              "                        {\"responsive\": true}\n",
              "                    ).then(function(){\n",
              "                            \n",
              "var gd = document.getElementById('ab1409cc-c430-4ae3-8599-12f25f4d732e');\n",
              "var x = new MutationObserver(function (mutations, observer) {{\n",
              "        var display = window.getComputedStyle(gd).display;\n",
              "        if (!display || display === 'none') {{\n",
              "            console.log([gd, 'removed!']);\n",
              "            Plotly.purge(gd);\n",
              "            observer.disconnect();\n",
              "        }}\n",
              "}});\n",
              "\n",
              "// Listen for the removal of the full notebook cells\n",
              "var notebookContainer = gd.closest('#notebook-container');\n",
              "if (notebookContainer) {{\n",
              "    x.observe(notebookContainer, {childList: true});\n",
              "}}\n",
              "\n",
              "// Listen for the clearing of the current output cell\n",
              "var outputEl = gd.closest('.output');\n",
              "if (outputEl) {{\n",
              "    x.observe(outputEl, {childList: true});\n",
              "}}\n",
              "\n",
              "                        })\n",
              "                };\n",
              "                \n",
              "            </script>\n",
              "        </div>\n",
              "</body>\n",
              "</html>"
            ]
          },
          "metadata": {
            "tags": []
          }
        }
      ]
    },
    {
      "cell_type": "code",
      "metadata": {
        "colab": {
          "base_uri": "https://localhost:8080/",
          "height": 417
        },
        "id": "DDZkpp2ulHjX",
        "outputId": "f673699d-a9dd-4bf1-f581-3679f6f0be9e"
      },
      "source": [
        "test_df['date'] = test_df['date'].apply(lambda x: datetime.date(int(str(x)[:4]), int(str(x)[4:6]), int(str(x)[6:])))\n",
        "cnt_srs = test_df.groupby('date')['fullVisitorId'].size()\n",
        "\n",
        "\n",
        "trace = scatter_plot(cnt_srs, 'red')\n",
        "\n",
        "layout = go.Layout(\n",
        "    height=400,\n",
        "    width=800,\n",
        "    paper_bgcolor='rgb(233,233,233)',\n",
        "    title='Dates in Test set'\n",
        ")\n",
        "\n",
        "data = [trace]\n",
        "fig = go.Figure(data=data, layout=layout)\n",
        "py.iplot(fig, filename=\"ActivationDate\")"
      ],
      "execution_count": null,
      "outputs": [
        {
          "output_type": "display_data",
          "data": {
            "text/html": [
              "<html>\n",
              "<head><meta charset=\"utf-8\" /></head>\n",
              "<body>\n",
              "    <div>\n",
              "            <script src=\"https://cdnjs.cloudflare.com/ajax/libs/mathjax/2.7.5/MathJax.js?config=TeX-AMS-MML_SVG\"></script><script type=\"text/javascript\">if (window.MathJax) {MathJax.Hub.Config({SVG: {font: \"STIX-Web\"}});}</script>\n",
              "                <script type=\"text/javascript\">window.PlotlyConfig = {MathJaxConfig: 'local'};</script>\n",
              "        <script src=\"https://cdn.plot.ly/plotly-latest.min.js\"></script>    \n",
              "            <div id=\"3cc7df93-8118-4e15-b7ed-0d044640027d\" class=\"plotly-graph-div\" style=\"height:400px; width:800px;\"></div>\n",
              "            <script type=\"text/javascript\">\n",
              "                \n",
              "                    window.PLOTLYENV=window.PLOTLYENV || {};\n",
              "                    \n",
              "                if (document.getElementById(\"3cc7df93-8118-4e15-b7ed-0d044640027d\")) {\n",
              "                    Plotly.newPlot(\n",
              "                        '3cc7df93-8118-4e15-b7ed-0d044640027d',\n",
              "                        [{\"marker\": {\"color\": \"red\"}, \"showlegend\": false, \"type\": \"scatter\", \"x\": [\"2018-04-30\", \"2018-04-29\", \"2018-04-28\", \"2018-04-27\", \"2018-04-26\", \"2018-04-25\", \"2018-04-24\", \"2018-04-23\", \"2018-04-22\", \"2018-04-21\", \"2018-04-20\", \"2018-04-19\", \"2018-04-18\", \"2018-04-17\", \"2018-04-16\", \"2018-04-15\", \"2018-04-14\", \"2018-04-13\", \"2018-04-12\", \"2018-04-11\", \"2018-04-10\", \"2018-04-09\", \"2018-04-08\", \"2018-04-07\", \"2018-04-06\", \"2018-04-05\", \"2018-04-04\", \"2018-04-03\", \"2018-04-02\", \"2018-04-01\", \"2018-03-31\", \"2018-03-30\", \"2018-03-29\", \"2018-03-28\", \"2018-03-27\", \"2018-03-26\", \"2018-03-25\", \"2018-03-24\", \"2018-03-23\", \"2018-03-22\", \"2018-03-21\", \"2018-03-20\", \"2018-03-19\", \"2018-03-18\", \"2018-03-17\", \"2018-03-16\", \"2018-03-15\", \"2018-03-14\", \"2018-03-13\", \"2018-03-12\", \"2018-03-11\", \"2018-03-10\", \"2018-03-09\", \"2018-03-08\", \"2018-03-07\", \"2018-03-06\", \"2018-03-05\", \"2018-03-04\", \"2018-03-03\", \"2018-03-02\", \"2018-03-01\", \"2018-02-28\", \"2018-02-27\", \"2018-02-26\", \"2018-02-25\", \"2018-02-24\", \"2018-02-23\", \"2018-02-22\", \"2018-02-21\", \"2018-02-20\", \"2018-02-19\", \"2018-02-18\", \"2018-02-17\", \"2018-02-16\", \"2018-02-15\", \"2018-02-14\", \"2018-02-13\", \"2018-02-12\", \"2018-02-11\", \"2018-02-10\", \"2018-02-09\", \"2018-02-08\", \"2018-02-07\", \"2018-02-06\", \"2018-02-05\", \"2018-02-04\", \"2018-02-03\", \"2018-02-02\", \"2018-02-01\", \"2018-01-31\", \"2018-01-30\", \"2018-01-29\", \"2018-01-28\", \"2018-01-27\", \"2018-01-26\", \"2018-01-25\", \"2018-01-24\", \"2018-01-23\", \"2018-01-22\", \"2018-01-21\", \"2018-01-20\", \"2018-01-19\", \"2018-01-18\", \"2018-01-17\", \"2018-01-16\", \"2018-01-15\", \"2018-01-14\", \"2018-01-13\", \"2018-01-12\", \"2018-01-11\", \"2018-01-10\", \"2018-01-09\", \"2018-01-08\", \"2018-01-07\", \"2018-01-06\", \"2018-01-05\", \"2018-01-04\", \"2018-01-03\", \"2018-01-02\", \"2018-01-01\", \"2017-12-31\", \"2017-12-30\", \"2017-12-29\", \"2017-12-28\", \"2017-12-27\", \"2017-12-26\", \"2017-12-25\", \"2017-12-24\", \"2017-12-23\", \"2017-12-22\", \"2017-12-21\", \"2017-12-20\", \"2017-12-19\", \"2017-12-18\", \"2017-12-17\", \"2017-12-16\", \"2017-12-15\", \"2017-12-14\", \"2017-12-13\", \"2017-12-12\", \"2017-12-11\", \"2017-12-10\", \"2017-12-09\", \"2017-12-08\", \"2017-12-07\", \"2017-12-06\", \"2017-12-05\", \"2017-12-04\", \"2017-12-03\", \"2017-12-02\", \"2017-12-01\", \"2017-11-30\", \"2017-11-29\", \"2017-11-28\", \"2017-11-27\", \"2017-11-26\", \"2017-11-25\", \"2017-11-24\", \"2017-11-23\", \"2017-11-22\", \"2017-11-21\", \"2017-11-20\", \"2017-11-19\", \"2017-11-18\", \"2017-11-17\", \"2017-11-16\", \"2017-11-15\", \"2017-11-14\", \"2017-11-13\", \"2017-11-12\", \"2017-11-11\", \"2017-11-10\", \"2017-11-09\", \"2017-11-08\", \"2017-11-07\", \"2017-11-06\", \"2017-11-05\", \"2017-11-04\", \"2017-11-03\", \"2017-11-02\", \"2017-11-01\", \"2017-10-31\", \"2017-10-30\", \"2017-10-29\", \"2017-10-28\", \"2017-10-27\", \"2017-10-26\", \"2017-10-25\", \"2017-10-24\", \"2017-10-23\", \"2017-10-22\", \"2017-10-21\", \"2017-10-20\", \"2017-10-19\", \"2017-10-18\", \"2017-10-17\", \"2017-10-16\", \"2017-10-15\", \"2017-10-14\", \"2017-10-13\", \"2017-10-12\", \"2017-10-11\", \"2017-10-10\", \"2017-10-09\", \"2017-10-08\", \"2017-10-07\", \"2017-10-06\", \"2017-10-05\", \"2017-10-04\", \"2017-10-03\", \"2017-10-02\", \"2017-10-01\", \"2017-09-30\", \"2017-09-29\", \"2017-09-28\", \"2017-09-27\", \"2017-09-26\", \"2017-09-25\", \"2017-09-24\", \"2017-09-23\", \"2017-09-22\", \"2017-09-21\", \"2017-09-20\", \"2017-09-19\", \"2017-09-18\", \"2017-09-17\", \"2017-09-16\", \"2017-09-15\", \"2017-09-14\", \"2017-09-13\", \"2017-09-12\", \"2017-09-11\", \"2017-09-10\", \"2017-09-09\", \"2017-09-08\", \"2017-09-07\", \"2017-09-06\", \"2017-09-05\", \"2017-09-04\", \"2017-09-03\", \"2017-09-02\", \"2017-09-01\", \"2017-08-31\", \"2017-08-30\", \"2017-08-29\", \"2017-08-28\", \"2017-08-27\", \"2017-08-26\", \"2017-08-25\", \"2017-08-24\", \"2017-08-23\", \"2017-08-22\", \"2017-08-21\", \"2017-08-20\", \"2017-08-19\", \"2017-08-18\", \"2017-08-17\", \"2017-08-16\", \"2017-08-15\", \"2017-08-14\", \"2017-08-13\", \"2017-08-12\", \"2017-08-11\", \"2017-08-10\", \"2017-08-09\", \"2017-08-08\", \"2017-08-07\", \"2017-08-06\", \"2017-08-05\", \"2017-08-04\", \"2017-08-03\", \"2017-08-02\"], \"y\": [2753, 1977, 1972, 2626, 3177, 3058, 3134, 3104, 2147, 1920, 2581, 3084, 3201, 3229, 3129, 2089, 1900, 2716, 3201, 3084, 3263, 3141, 2434, 2144, 2653, 2936, 3299, 3405, 3176, 2068, 1843, 2679, 3310, 3724, 4227, 3077, 2146, 2228, 2891, 3570, 4434, 3251, 3603, 2317, 2201, 2993, 3498, 3344, 3484, 3598, 2252, 2285, 2877, 3092, 3227, 3824, 3221, 2386, 2390, 2922, 3195, 3163, 3516, 3989, 2446, 2247, 3055, 3596, 3392, 3501, 2871, 2627, 2371, 2738, 3128, 3272, 3434, 3547, 2708, 2469, 2964, 2953, 3012, 2999, 3041, 2171, 2063, 2697, 3034, 3021, 3062, 3017, 2198, 2073, 2672, 3502, 2987, 2901, 2951, 2012, 2024, 2784, 2842, 3120, 3241, 3070, 2242, 2115, 2756, 2954, 3176, 3223, 2751, 2068, 1931, 2613, 2812, 2747, 2715, 1810, 1495, 1768, 1902, 2255, 2716, 2370, 2085, 1960, 1998, 2422, 2930, 3196, 3407, 3601, 2523, 2597, 3527, 3587, 9131, 9234, 3259, 2487, 2239, 2880, 3624, 3577, 3395, 3328, 2439, 2254, 2918, 3178, 3452, 3934, 4194, 2553, 2269, 2901, 2964, 3033, 2905, 3318, 2311, 2123, 3230, 3530, 3581, 3573, 3383, 2784, 2471, 3186, 3628, 4136, 3846, 3542, 2642, 2330, 2937, 2880, 2875, 2774, 3144, 2217, 2293, 3134, 3547, 3290, 3318, 3427, 2662, 2251, 2976, 3205, 3493, 4258, 2989, 2121, 2395, 2699, 3002, 3368, 3961, 3976, 3329, 3539, 4033, 4679, 5122, 3621, 3470, 2993, 2634, 2989, 3396, 3303, 3655, 2987, 2556, 2200, 3313, 4715, 4880, 3526, 3626, 2856, 2821, 2691, 2850, 2790, 2784, 2831, 1992, 2026, 2564, 2793, 2831, 2852, 2313, 2064, 1966, 2471, 2955, 3121, 3263, 2748, 2162, 2177, 2422, 3716, 3267, 3143, 2860, 1985, 2018, 2861, 3203, 2862, 3109, 3487, 1996, 2012, 2769, 2852, 2855, 3059, 2846, 2340, 1796, 2843, 2691, 2828]}],\n",
              "                        {\"height\": 400, \"paper_bgcolor\": \"rgb(233,233,233)\", \"template\": {\"data\": {\"bar\": [{\"error_x\": {\"color\": \"#2a3f5f\"}, \"error_y\": {\"color\": \"#2a3f5f\"}, \"marker\": {\"line\": {\"color\": \"#E5ECF6\", \"width\": 0.5}}, \"type\": \"bar\"}], \"barpolar\": [{\"marker\": {\"line\": {\"color\": \"#E5ECF6\", \"width\": 0.5}}, \"type\": \"barpolar\"}], \"carpet\": [{\"aaxis\": {\"endlinecolor\": \"#2a3f5f\", \"gridcolor\": \"white\", \"linecolor\": \"white\", \"minorgridcolor\": \"white\", \"startlinecolor\": \"#2a3f5f\"}, \"baxis\": {\"endlinecolor\": \"#2a3f5f\", \"gridcolor\": \"white\", \"linecolor\": \"white\", \"minorgridcolor\": \"white\", \"startlinecolor\": \"#2a3f5f\"}, \"type\": \"carpet\"}], \"choropleth\": [{\"colorbar\": {\"outlinewidth\": 0, \"ticks\": \"\"}, \"type\": \"choropleth\"}], \"contour\": [{\"colorbar\": {\"outlinewidth\": 0, \"ticks\": \"\"}, \"colorscale\": [[0.0, \"#0d0887\"], [0.1111111111111111, \"#46039f\"], [0.2222222222222222, \"#7201a8\"], [0.3333333333333333, \"#9c179e\"], [0.4444444444444444, \"#bd3786\"], [0.5555555555555556, \"#d8576b\"], [0.6666666666666666, \"#ed7953\"], [0.7777777777777778, \"#fb9f3a\"], [0.8888888888888888, \"#fdca26\"], [1.0, \"#f0f921\"]], \"type\": \"contour\"}], \"contourcarpet\": [{\"colorbar\": {\"outlinewidth\": 0, \"ticks\": \"\"}, \"type\": \"contourcarpet\"}], \"heatmap\": [{\"colorbar\": {\"outlinewidth\": 0, \"ticks\": \"\"}, \"colorscale\": [[0.0, \"#0d0887\"], [0.1111111111111111, \"#46039f\"], [0.2222222222222222, \"#7201a8\"], [0.3333333333333333, \"#9c179e\"], [0.4444444444444444, \"#bd3786\"], [0.5555555555555556, \"#d8576b\"], [0.6666666666666666, \"#ed7953\"], [0.7777777777777778, \"#fb9f3a\"], [0.8888888888888888, \"#fdca26\"], [1.0, \"#f0f921\"]], \"type\": \"heatmap\"}], \"heatmapgl\": [{\"colorbar\": {\"outlinewidth\": 0, \"ticks\": \"\"}, \"colorscale\": [[0.0, \"#0d0887\"], [0.1111111111111111, \"#46039f\"], [0.2222222222222222, \"#7201a8\"], [0.3333333333333333, \"#9c179e\"], [0.4444444444444444, \"#bd3786\"], [0.5555555555555556, \"#d8576b\"], [0.6666666666666666, \"#ed7953\"], [0.7777777777777778, \"#fb9f3a\"], [0.8888888888888888, \"#fdca26\"], [1.0, \"#f0f921\"]], \"type\": \"heatmapgl\"}], \"histogram\": [{\"marker\": {\"colorbar\": {\"outlinewidth\": 0, \"ticks\": \"\"}}, \"type\": \"histogram\"}], \"histogram2d\": [{\"colorbar\": {\"outlinewidth\": 0, \"ticks\": \"\"}, \"colorscale\": [[0.0, \"#0d0887\"], [0.1111111111111111, \"#46039f\"], [0.2222222222222222, \"#7201a8\"], [0.3333333333333333, \"#9c179e\"], [0.4444444444444444, \"#bd3786\"], [0.5555555555555556, \"#d8576b\"], [0.6666666666666666, \"#ed7953\"], [0.7777777777777778, \"#fb9f3a\"], [0.8888888888888888, \"#fdca26\"], [1.0, \"#f0f921\"]], \"type\": \"histogram2d\"}], \"histogram2dcontour\": [{\"colorbar\": {\"outlinewidth\": 0, \"ticks\": \"\"}, \"colorscale\": [[0.0, \"#0d0887\"], [0.1111111111111111, \"#46039f\"], [0.2222222222222222, \"#7201a8\"], [0.3333333333333333, \"#9c179e\"], [0.4444444444444444, \"#bd3786\"], [0.5555555555555556, \"#d8576b\"], [0.6666666666666666, \"#ed7953\"], [0.7777777777777778, \"#fb9f3a\"], [0.8888888888888888, \"#fdca26\"], [1.0, \"#f0f921\"]], \"type\": \"histogram2dcontour\"}], \"mesh3d\": [{\"colorbar\": {\"outlinewidth\": 0, \"ticks\": \"\"}, \"type\": \"mesh3d\"}], \"parcoords\": [{\"line\": {\"colorbar\": {\"outlinewidth\": 0, \"ticks\": \"\"}}, \"type\": \"parcoords\"}], \"pie\": [{\"automargin\": true, \"type\": \"pie\"}], \"scatter\": [{\"marker\": {\"colorbar\": {\"outlinewidth\": 0, \"ticks\": \"\"}}, \"type\": \"scatter\"}], \"scatter3d\": [{\"line\": {\"colorbar\": {\"outlinewidth\": 0, \"ticks\": \"\"}}, \"marker\": {\"colorbar\": {\"outlinewidth\": 0, \"ticks\": \"\"}}, \"type\": \"scatter3d\"}], \"scattercarpet\": [{\"marker\": {\"colorbar\": {\"outlinewidth\": 0, \"ticks\": \"\"}}, \"type\": \"scattercarpet\"}], \"scattergeo\": [{\"marker\": {\"colorbar\": {\"outlinewidth\": 0, \"ticks\": \"\"}}, \"type\": \"scattergeo\"}], \"scattergl\": [{\"marker\": {\"colorbar\": {\"outlinewidth\": 0, \"ticks\": \"\"}}, \"type\": \"scattergl\"}], \"scattermapbox\": [{\"marker\": {\"colorbar\": {\"outlinewidth\": 0, \"ticks\": \"\"}}, \"type\": \"scattermapbox\"}], \"scatterpolar\": [{\"marker\": {\"colorbar\": {\"outlinewidth\": 0, \"ticks\": \"\"}}, \"type\": \"scatterpolar\"}], \"scatterpolargl\": [{\"marker\": {\"colorbar\": {\"outlinewidth\": 0, \"ticks\": \"\"}}, \"type\": \"scatterpolargl\"}], \"scatterternary\": [{\"marker\": {\"colorbar\": {\"outlinewidth\": 0, \"ticks\": \"\"}}, \"type\": \"scatterternary\"}], \"surface\": [{\"colorbar\": {\"outlinewidth\": 0, \"ticks\": \"\"}, \"colorscale\": [[0.0, \"#0d0887\"], [0.1111111111111111, \"#46039f\"], [0.2222222222222222, \"#7201a8\"], [0.3333333333333333, \"#9c179e\"], [0.4444444444444444, \"#bd3786\"], [0.5555555555555556, \"#d8576b\"], [0.6666666666666666, \"#ed7953\"], [0.7777777777777778, \"#fb9f3a\"], [0.8888888888888888, \"#fdca26\"], [1.0, \"#f0f921\"]], \"type\": \"surface\"}], \"table\": [{\"cells\": {\"fill\": {\"color\": \"#EBF0F8\"}, \"line\": {\"color\": \"white\"}}, \"header\": {\"fill\": {\"color\": \"#C8D4E3\"}, \"line\": {\"color\": \"white\"}}, \"type\": \"table\"}]}, \"layout\": {\"annotationdefaults\": {\"arrowcolor\": \"#2a3f5f\", \"arrowhead\": 0, \"arrowwidth\": 1}, \"coloraxis\": {\"colorbar\": {\"outlinewidth\": 0, \"ticks\": \"\"}}, \"colorscale\": {\"diverging\": [[0, \"#8e0152\"], [0.1, \"#c51b7d\"], [0.2, \"#de77ae\"], [0.3, \"#f1b6da\"], [0.4, \"#fde0ef\"], [0.5, \"#f7f7f7\"], [0.6, \"#e6f5d0\"], [0.7, \"#b8e186\"], [0.8, \"#7fbc41\"], [0.9, \"#4d9221\"], [1, \"#276419\"]], \"sequential\": [[0.0, \"#0d0887\"], [0.1111111111111111, \"#46039f\"], [0.2222222222222222, \"#7201a8\"], [0.3333333333333333, \"#9c179e\"], [0.4444444444444444, \"#bd3786\"], [0.5555555555555556, \"#d8576b\"], [0.6666666666666666, \"#ed7953\"], [0.7777777777777778, \"#fb9f3a\"], [0.8888888888888888, \"#fdca26\"], [1.0, \"#f0f921\"]], \"sequentialminus\": [[0.0, \"#0d0887\"], [0.1111111111111111, \"#46039f\"], [0.2222222222222222, \"#7201a8\"], [0.3333333333333333, \"#9c179e\"], [0.4444444444444444, \"#bd3786\"], [0.5555555555555556, \"#d8576b\"], [0.6666666666666666, \"#ed7953\"], [0.7777777777777778, \"#fb9f3a\"], [0.8888888888888888, \"#fdca26\"], [1.0, \"#f0f921\"]]}, \"colorway\": [\"#636efa\", \"#EF553B\", \"#00cc96\", \"#ab63fa\", \"#FFA15A\", \"#19d3f3\", \"#FF6692\", \"#B6E880\", \"#FF97FF\", \"#FECB52\"], \"font\": {\"color\": \"#2a3f5f\"}, \"geo\": {\"bgcolor\": \"white\", \"lakecolor\": \"white\", \"landcolor\": \"#E5ECF6\", \"showlakes\": true, \"showland\": true, \"subunitcolor\": \"white\"}, \"hoverlabel\": {\"align\": \"left\"}, \"hovermode\": \"closest\", \"mapbox\": {\"style\": \"light\"}, \"paper_bgcolor\": \"white\", \"plot_bgcolor\": \"#E5ECF6\", \"polar\": {\"angularaxis\": {\"gridcolor\": \"white\", \"linecolor\": \"white\", \"ticks\": \"\"}, \"bgcolor\": \"#E5ECF6\", \"radialaxis\": {\"gridcolor\": \"white\", \"linecolor\": \"white\", \"ticks\": \"\"}}, \"scene\": {\"xaxis\": {\"backgroundcolor\": \"#E5ECF6\", \"gridcolor\": \"white\", \"gridwidth\": 2, \"linecolor\": \"white\", \"showbackground\": true, \"ticks\": \"\", \"zerolinecolor\": \"white\"}, \"yaxis\": {\"backgroundcolor\": \"#E5ECF6\", \"gridcolor\": \"white\", \"gridwidth\": 2, \"linecolor\": \"white\", \"showbackground\": true, \"ticks\": \"\", \"zerolinecolor\": \"white\"}, \"zaxis\": {\"backgroundcolor\": \"#E5ECF6\", \"gridcolor\": \"white\", \"gridwidth\": 2, \"linecolor\": \"white\", \"showbackground\": true, \"ticks\": \"\", \"zerolinecolor\": \"white\"}}, \"shapedefaults\": {\"line\": {\"color\": \"#2a3f5f\"}}, \"ternary\": {\"aaxis\": {\"gridcolor\": \"white\", \"linecolor\": \"white\", \"ticks\": \"\"}, \"baxis\": {\"gridcolor\": \"white\", \"linecolor\": \"white\", \"ticks\": \"\"}, \"bgcolor\": \"#E5ECF6\", \"caxis\": {\"gridcolor\": \"white\", \"linecolor\": \"white\", \"ticks\": \"\"}}, \"title\": {\"x\": 0.05}, \"xaxis\": {\"automargin\": true, \"gridcolor\": \"white\", \"linecolor\": \"white\", \"ticks\": \"\", \"title\": {\"standoff\": 15}, \"zerolinecolor\": \"white\", \"zerolinewidth\": 2}, \"yaxis\": {\"automargin\": true, \"gridcolor\": \"white\", \"linecolor\": \"white\", \"ticks\": \"\", \"title\": {\"standoff\": 15}, \"zerolinecolor\": \"white\", \"zerolinewidth\": 2}}}, \"title\": {\"text\": \"Dates in Test set\"}, \"width\": 800},\n",
              "                        {\"responsive\": true}\n",
              "                    ).then(function(){\n",
              "                            \n",
              "var gd = document.getElementById('3cc7df93-8118-4e15-b7ed-0d044640027d');\n",
              "var x = new MutationObserver(function (mutations, observer) {{\n",
              "        var display = window.getComputedStyle(gd).display;\n",
              "        if (!display || display === 'none') {{\n",
              "            console.log([gd, 'removed!']);\n",
              "            Plotly.purge(gd);\n",
              "            observer.disconnect();\n",
              "        }}\n",
              "}});\n",
              "\n",
              "// Listen for the removal of the full notebook cells\n",
              "var notebookContainer = gd.closest('#notebook-container');\n",
              "if (notebookContainer) {{\n",
              "    x.observe(notebookContainer, {childList: true});\n",
              "}}\n",
              "\n",
              "// Listen for the clearing of the current output cell\n",
              "var outputEl = gd.closest('.output');\n",
              "if (outputEl) {{\n",
              "    x.observe(outputEl, {childList: true});\n",
              "}}\n",
              "\n",
              "                        })\n",
              "                };\n",
              "                \n",
              "            </script>\n",
              "        </div>\n",
              "</body>\n",
              "</html>"
            ]
          },
          "metadata": {
            "tags": []
          }
        }
      ]
    },
    {
      "cell_type": "markdown",
      "metadata": {
        "id": "jPMAHdSbckD3"
      },
      "source": [
        "# **Eliminemos columnas constantes e imputar valores cero a NAN**"
      ]
    },
    {
      "cell_type": "code",
      "metadata": {
        "colab": {
          "base_uri": "https://localhost:8080/"
        },
        "id": "GOmw-81rIpjs",
        "outputId": "26f4bf23-56e1-4867-c22d-f4bace10aa16"
      },
      "source": [
        "print (\"Antes de eliminar columnas constantes - shape de train y test datasets: \", train_df.shape,test_df.shape)\n",
        "train_df = train_df.loc[:, (train_df != train_df.iloc[0]).any()]\n",
        "test_df = test_df.loc[:, (test_df != test_df.iloc[0]).any()]\n",
        "print (\"Despues de eliminar columnas constantes - shape de train y test datasets: \", train_df.shape,test_df.shape)"
      ],
      "execution_count": null,
      "outputs": [
        {
          "output_type": "stream",
          "text": [
            "Antes de eliminar columnas constantes - shape de train y test datasets:  (903653, 55) (804684, 53)\n",
            "Despues de eliminar columnas constantes - shape de train y test datasets:  (903653, 36) (804684, 34)\n"
          ],
          "name": "stdout"
        }
      ]
    },
    {
      "cell_type": "code",
      "metadata": {
        "colab": {
          "base_uri": "https://localhost:8080/"
        },
        "id": "w6S5mpfHC6tP",
        "outputId": "403f5877-1db9-4f85-f47f-98ad5e1023f8"
      },
      "source": [
        "# Replace NaN values throughout train dataset\n",
        "train_df.replace(to_replace=np.nan, value=0, inplace=True)\n",
        "train_df.shape"
      ],
      "execution_count": null,
      "outputs": [
        {
          "output_type": "execute_result",
          "data": {
            "text/plain": [
              "(903653, 36)"
            ]
          },
          "metadata": {
            "tags": []
          },
          "execution_count": 21
        }
      ]
    },
    {
      "cell_type": "code",
      "metadata": {
        "colab": {
          "base_uri": "https://localhost:8080/"
        },
        "id": "zg3jGqlIJ3Su",
        "outputId": "90e254f7-79b2-42b4-e99b-a78fdcff5ef9"
      },
      "source": [
        "# Replace NaN values throughout test dataset\n",
        "test_df.replace(to_replace=np.nan, value=0, inplace=True)\n",
        "test_df.shape"
      ],
      "execution_count": null,
      "outputs": [
        {
          "output_type": "execute_result",
          "data": {
            "text/plain": [
              "(804684, 34)"
            ]
          },
          "metadata": {
            "tags": []
          },
          "execution_count": 22
        }
      ]
    },
    {
      "cell_type": "code",
      "metadata": {
        "colab": {
          "base_uri": "https://localhost:8080/",
          "height": 202
        },
        "id": "iO5YA8ArKhVE",
        "outputId": "974da506-2fac-4b06-eba8-3b15172f7724"
      },
      "source": [
        "train_df.head(3)"
      ],
      "execution_count": null,
      "outputs": [
        {
          "output_type": "execute_result",
          "data": {
            "text/html": [
              "<div>\n",
              "<style scoped>\n",
              "    .dataframe tbody tr th:only-of-type {\n",
              "        vertical-align: middle;\n",
              "    }\n",
              "\n",
              "    .dataframe tbody tr th {\n",
              "        vertical-align: top;\n",
              "    }\n",
              "\n",
              "    .dataframe thead th {\n",
              "        text-align: right;\n",
              "    }\n",
              "</style>\n",
              "<table border=\"1\" class=\"dataframe\">\n",
              "  <thead>\n",
              "    <tr style=\"text-align: right;\">\n",
              "      <th></th>\n",
              "      <th>channelGrouping</th>\n",
              "      <th>date</th>\n",
              "      <th>fullVisitorId</th>\n",
              "      <th>sessionId</th>\n",
              "      <th>visitId</th>\n",
              "      <th>visitNumber</th>\n",
              "      <th>visitStartTime</th>\n",
              "      <th>device.browser</th>\n",
              "      <th>device.operatingSystem</th>\n",
              "      <th>device.isMobile</th>\n",
              "      <th>device.deviceCategory</th>\n",
              "      <th>geoNetwork.continent</th>\n",
              "      <th>geoNetwork.subContinent</th>\n",
              "      <th>geoNetwork.country</th>\n",
              "      <th>geoNetwork.region</th>\n",
              "      <th>geoNetwork.metro</th>\n",
              "      <th>geoNetwork.city</th>\n",
              "      <th>geoNetwork.networkDomain</th>\n",
              "      <th>totals.hits</th>\n",
              "      <th>totals.pageviews</th>\n",
              "      <th>totals.bounces</th>\n",
              "      <th>totals.newVisits</th>\n",
              "      <th>totals.transactionRevenue</th>\n",
              "      <th>trafficSource.campaign</th>\n",
              "      <th>trafficSource.source</th>\n",
              "      <th>trafficSource.medium</th>\n",
              "      <th>trafficSource.keyword</th>\n",
              "      <th>trafficSource.isTrueDirect</th>\n",
              "      <th>trafficSource.referralPath</th>\n",
              "      <th>trafficSource.adwordsClickInfo.page</th>\n",
              "      <th>trafficSource.adwordsClickInfo.slot</th>\n",
              "      <th>trafficSource.adwordsClickInfo.gclId</th>\n",
              "      <th>trafficSource.adwordsClickInfo.adNetworkType</th>\n",
              "      <th>trafficSource.adwordsClickInfo.isVideoAd</th>\n",
              "      <th>trafficSource.adContent</th>\n",
              "      <th>trafficSource.campaignCode</th>\n",
              "    </tr>\n",
              "  </thead>\n",
              "  <tbody>\n",
              "    <tr>\n",
              "      <th>0</th>\n",
              "      <td>Organic Search</td>\n",
              "      <td>2016-09-02</td>\n",
              "      <td>1131660440785968503</td>\n",
              "      <td>1131660440785968503_1472830385</td>\n",
              "      <td>1472830385</td>\n",
              "      <td>1</td>\n",
              "      <td>1472830385</td>\n",
              "      <td>Chrome</td>\n",
              "      <td>Windows</td>\n",
              "      <td>False</td>\n",
              "      <td>desktop</td>\n",
              "      <td>Asia</td>\n",
              "      <td>Western Asia</td>\n",
              "      <td>Turkey</td>\n",
              "      <td>Izmir</td>\n",
              "      <td>(not set)</td>\n",
              "      <td>Izmir</td>\n",
              "      <td>ttnet.com.tr</td>\n",
              "      <td>1</td>\n",
              "      <td>1</td>\n",
              "      <td>1</td>\n",
              "      <td>1</td>\n",
              "      <td>0</td>\n",
              "      <td>(not set)</td>\n",
              "      <td>google</td>\n",
              "      <td>organic</td>\n",
              "      <td>(not provided)</td>\n",
              "      <td>0</td>\n",
              "      <td>0</td>\n",
              "      <td>0</td>\n",
              "      <td>0</td>\n",
              "      <td>0</td>\n",
              "      <td>0</td>\n",
              "      <td>0</td>\n",
              "      <td>0</td>\n",
              "      <td>0</td>\n",
              "    </tr>\n",
              "    <tr>\n",
              "      <th>1</th>\n",
              "      <td>Organic Search</td>\n",
              "      <td>2016-09-02</td>\n",
              "      <td>377306020877927890</td>\n",
              "      <td>377306020877927890_1472880147</td>\n",
              "      <td>1472880147</td>\n",
              "      <td>1</td>\n",
              "      <td>1472880147</td>\n",
              "      <td>Firefox</td>\n",
              "      <td>Macintosh</td>\n",
              "      <td>False</td>\n",
              "      <td>desktop</td>\n",
              "      <td>Oceania</td>\n",
              "      <td>Australasia</td>\n",
              "      <td>Australia</td>\n",
              "      <td>not available in demo dataset</td>\n",
              "      <td>not available in demo dataset</td>\n",
              "      <td>not available in demo dataset</td>\n",
              "      <td>dodo.net.au</td>\n",
              "      <td>1</td>\n",
              "      <td>1</td>\n",
              "      <td>1</td>\n",
              "      <td>1</td>\n",
              "      <td>0</td>\n",
              "      <td>(not set)</td>\n",
              "      <td>google</td>\n",
              "      <td>organic</td>\n",
              "      <td>(not provided)</td>\n",
              "      <td>0</td>\n",
              "      <td>0</td>\n",
              "      <td>0</td>\n",
              "      <td>0</td>\n",
              "      <td>0</td>\n",
              "      <td>0</td>\n",
              "      <td>0</td>\n",
              "      <td>0</td>\n",
              "      <td>0</td>\n",
              "    </tr>\n",
              "    <tr>\n",
              "      <th>2</th>\n",
              "      <td>Organic Search</td>\n",
              "      <td>2016-09-02</td>\n",
              "      <td>3895546263509774583</td>\n",
              "      <td>3895546263509774583_1472865386</td>\n",
              "      <td>1472865386</td>\n",
              "      <td>1</td>\n",
              "      <td>1472865386</td>\n",
              "      <td>Chrome</td>\n",
              "      <td>Windows</td>\n",
              "      <td>False</td>\n",
              "      <td>desktop</td>\n",
              "      <td>Europe</td>\n",
              "      <td>Southern Europe</td>\n",
              "      <td>Spain</td>\n",
              "      <td>Community of Madrid</td>\n",
              "      <td>(not set)</td>\n",
              "      <td>Madrid</td>\n",
              "      <td>unknown.unknown</td>\n",
              "      <td>1</td>\n",
              "      <td>1</td>\n",
              "      <td>1</td>\n",
              "      <td>1</td>\n",
              "      <td>0</td>\n",
              "      <td>(not set)</td>\n",
              "      <td>google</td>\n",
              "      <td>organic</td>\n",
              "      <td>(not provided)</td>\n",
              "      <td>0</td>\n",
              "      <td>0</td>\n",
              "      <td>0</td>\n",
              "      <td>0</td>\n",
              "      <td>0</td>\n",
              "      <td>0</td>\n",
              "      <td>0</td>\n",
              "      <td>0</td>\n",
              "      <td>0</td>\n",
              "    </tr>\n",
              "  </tbody>\n",
              "</table>\n",
              "</div>"
            ],
            "text/plain": [
              "  channelGrouping  ... trafficSource.campaignCode\n",
              "0  Organic Search  ...                          0\n",
              "1  Organic Search  ...                          0\n",
              "2  Organic Search  ...                          0\n",
              "\n",
              "[3 rows x 36 columns]"
            ]
          },
          "metadata": {
            "tags": []
          },
          "execution_count": 23
        }
      ]
    },
    {
      "cell_type": "code",
      "metadata": {
        "colab": {
          "base_uri": "https://localhost:8080/",
          "height": 202
        },
        "id": "c_ACywXBKmNU",
        "outputId": "f43d2d46-bd15-4221-c97b-0b2eddd227ac"
      },
      "source": [
        "test_df.head(3)"
      ],
      "execution_count": null,
      "outputs": [
        {
          "output_type": "execute_result",
          "data": {
            "text/html": [
              "<div>\n",
              "<style scoped>\n",
              "    .dataframe tbody tr th:only-of-type {\n",
              "        vertical-align: middle;\n",
              "    }\n",
              "\n",
              "    .dataframe tbody tr th {\n",
              "        vertical-align: top;\n",
              "    }\n",
              "\n",
              "    .dataframe thead th {\n",
              "        text-align: right;\n",
              "    }\n",
              "</style>\n",
              "<table border=\"1\" class=\"dataframe\">\n",
              "  <thead>\n",
              "    <tr style=\"text-align: right;\">\n",
              "      <th></th>\n",
              "      <th>channelGrouping</th>\n",
              "      <th>date</th>\n",
              "      <th>fullVisitorId</th>\n",
              "      <th>sessionId</th>\n",
              "      <th>visitId</th>\n",
              "      <th>visitNumber</th>\n",
              "      <th>visitStartTime</th>\n",
              "      <th>device.browser</th>\n",
              "      <th>device.operatingSystem</th>\n",
              "      <th>device.isMobile</th>\n",
              "      <th>device.deviceCategory</th>\n",
              "      <th>geoNetwork.continent</th>\n",
              "      <th>geoNetwork.subContinent</th>\n",
              "      <th>geoNetwork.country</th>\n",
              "      <th>geoNetwork.region</th>\n",
              "      <th>geoNetwork.metro</th>\n",
              "      <th>geoNetwork.city</th>\n",
              "      <th>geoNetwork.networkDomain</th>\n",
              "      <th>totals.hits</th>\n",
              "      <th>totals.pageviews</th>\n",
              "      <th>totals.newVisits</th>\n",
              "      <th>totals.bounces</th>\n",
              "      <th>trafficSource.campaign</th>\n",
              "      <th>trafficSource.source</th>\n",
              "      <th>trafficSource.medium</th>\n",
              "      <th>trafficSource.keyword</th>\n",
              "      <th>trafficSource.isTrueDirect</th>\n",
              "      <th>trafficSource.adwordsClickInfo.page</th>\n",
              "      <th>trafficSource.adwordsClickInfo.slot</th>\n",
              "      <th>trafficSource.adwordsClickInfo.gclId</th>\n",
              "      <th>trafficSource.adwordsClickInfo.adNetworkType</th>\n",
              "      <th>trafficSource.adwordsClickInfo.isVideoAd</th>\n",
              "      <th>trafficSource.referralPath</th>\n",
              "      <th>trafficSource.adContent</th>\n",
              "    </tr>\n",
              "  </thead>\n",
              "  <tbody>\n",
              "    <tr>\n",
              "      <th>0</th>\n",
              "      <td>Organic Search</td>\n",
              "      <td>2017-10-16</td>\n",
              "      <td>6167871330617112363</td>\n",
              "      <td>6167871330617112363_1508151024</td>\n",
              "      <td>1508151024</td>\n",
              "      <td>2</td>\n",
              "      <td>1508151024</td>\n",
              "      <td>Chrome</td>\n",
              "      <td>Macintosh</td>\n",
              "      <td>False</td>\n",
              "      <td>desktop</td>\n",
              "      <td>Asia</td>\n",
              "      <td>Southeast Asia</td>\n",
              "      <td>Singapore</td>\n",
              "      <td>(not set)</td>\n",
              "      <td>(not set)</td>\n",
              "      <td>(not set)</td>\n",
              "      <td>myrepublic.com.sg</td>\n",
              "      <td>4</td>\n",
              "      <td>4</td>\n",
              "      <td>0</td>\n",
              "      <td>0</td>\n",
              "      <td>(not set)</td>\n",
              "      <td>google</td>\n",
              "      <td>organic</td>\n",
              "      <td>(not provided)</td>\n",
              "      <td>True</td>\n",
              "      <td>0</td>\n",
              "      <td>0</td>\n",
              "      <td>0</td>\n",
              "      <td>0</td>\n",
              "      <td>0</td>\n",
              "      <td>0</td>\n",
              "      <td>0</td>\n",
              "    </tr>\n",
              "    <tr>\n",
              "      <th>1</th>\n",
              "      <td>Organic Search</td>\n",
              "      <td>2017-10-16</td>\n",
              "      <td>0643697640977915618</td>\n",
              "      <td>0643697640977915618_1508175522</td>\n",
              "      <td>1508175522</td>\n",
              "      <td>1</td>\n",
              "      <td>1508175522</td>\n",
              "      <td>Chrome</td>\n",
              "      <td>Windows</td>\n",
              "      <td>False</td>\n",
              "      <td>desktop</td>\n",
              "      <td>Europe</td>\n",
              "      <td>Southern Europe</td>\n",
              "      <td>Spain</td>\n",
              "      <td>Aragon</td>\n",
              "      <td>(not set)</td>\n",
              "      <td>Zaragoza</td>\n",
              "      <td>rima-tde.net</td>\n",
              "      <td>5</td>\n",
              "      <td>5</td>\n",
              "      <td>1</td>\n",
              "      <td>0</td>\n",
              "      <td>(not set)</td>\n",
              "      <td>google</td>\n",
              "      <td>organic</td>\n",
              "      <td>(not provided)</td>\n",
              "      <td>0</td>\n",
              "      <td>0</td>\n",
              "      <td>0</td>\n",
              "      <td>0</td>\n",
              "      <td>0</td>\n",
              "      <td>0</td>\n",
              "      <td>0</td>\n",
              "      <td>0</td>\n",
              "    </tr>\n",
              "    <tr>\n",
              "      <th>2</th>\n",
              "      <td>Organic Search</td>\n",
              "      <td>2017-10-16</td>\n",
              "      <td>6059383810968229466</td>\n",
              "      <td>6059383810968229466_1508143220</td>\n",
              "      <td>1508143220</td>\n",
              "      <td>1</td>\n",
              "      <td>1508143220</td>\n",
              "      <td>Chrome</td>\n",
              "      <td>Macintosh</td>\n",
              "      <td>False</td>\n",
              "      <td>desktop</td>\n",
              "      <td>Europe</td>\n",
              "      <td>Western Europe</td>\n",
              "      <td>France</td>\n",
              "      <td>not available in demo dataset</td>\n",
              "      <td>not available in demo dataset</td>\n",
              "      <td>not available in demo dataset</td>\n",
              "      <td>sfr.net</td>\n",
              "      <td>7</td>\n",
              "      <td>7</td>\n",
              "      <td>1</td>\n",
              "      <td>0</td>\n",
              "      <td>(not set)</td>\n",
              "      <td>google</td>\n",
              "      <td>organic</td>\n",
              "      <td>(not provided)</td>\n",
              "      <td>0</td>\n",
              "      <td>0</td>\n",
              "      <td>0</td>\n",
              "      <td>0</td>\n",
              "      <td>0</td>\n",
              "      <td>0</td>\n",
              "      <td>0</td>\n",
              "      <td>0</td>\n",
              "    </tr>\n",
              "  </tbody>\n",
              "</table>\n",
              "</div>"
            ],
            "text/plain": [
              "  channelGrouping  ... trafficSource.adContent\n",
              "0  Organic Search  ...                       0\n",
              "1  Organic Search  ...                       0\n",
              "2  Organic Search  ...                       0\n",
              "\n",
              "[3 rows x 34 columns]"
            ]
          },
          "metadata": {
            "tags": []
          },
          "execution_count": 24
        }
      ]
    },
    {
      "cell_type": "markdown",
      "metadata": {
        "id": "wyUx_aZ_Srz1"
      },
      "source": [
        "# **Exploración de la variable objetivo:**"
      ]
    },
    {
      "cell_type": "markdown",
      "metadata": {
        "id": "TowZB2cwSqGQ"
      },
      "source": [
        "Dado que estamos prediciendo el registro natural de la suma de todas las transacciones del usuario, resumamos los ingresos de la transacción a nivel de usuario y tomemos un registro y luego hagamos un diagrama de dispersión."
      ]
    },
    {
      "cell_type": "code",
      "metadata": {
        "colab": {
          "base_uri": "https://localhost:8080/",
          "height": 391
        },
        "id": "0lzoir4XTAV9",
        "outputId": "678fbdff-23bf-4e69-8e3f-7ed7efd833e3"
      },
      "source": [
        "train_df[\"totals.transactionRevenue\"] = train_df[\"totals.transactionRevenue\"].astype('float')\n",
        "gdf = train_df.groupby(\"fullVisitorId\")[\"totals.transactionRevenue\"].sum().reset_index()\n",
        "\n",
        "plt.figure(figsize=(8,6))\n",
        "plt.scatter(range(gdf.shape[0]), np.sort(np.log1p(gdf[\"totals.transactionRevenue\"].values)))\n",
        "plt.xlabel('index', fontsize=12)\n",
        "plt.ylabel('TransactionRevenue', fontsize=12)\n",
        "plt.grid()\n",
        "plt.show()"
      ],
      "execution_count": null,
      "outputs": [
        {
          "output_type": "display_data",
          "data": {
            "image/png": "[encoded data removed]",
            "text/plain": [
              "<Figure size 576x432 with 1 Axes>"
            ]
          },
          "metadata": {
            "tags": [],
            "needs_background": "light"
          }
        }
      ]
    },
    {
      "cell_type": "markdown",
      "metadata": {
        "id": "KAIHn4GYTpdV"
      },
      "source": [
        "\n",
        "Esto confirma las dos primeras líneas del resumen de la competencia:\n",
        "\n",
        "La regla 80/20 ha demostrado ser cierta para muchas empresas:  **solo un pequeño porcentaje de clientes produce la mayor parte de los ingresos** . Como tal, los equipos de marketing se enfrentan al desafío de realizar inversiones adecuadas en estrategias promocionales."
      ]
    },
    {
      "cell_type": "code",
      "metadata": {
        "colab": {
          "base_uri": "https://localhost:8080/"
        },
        "id": "WsFa2zrxsLZd",
        "outputId": "67d5f442-3ef7-4af0-e267-2e4b75185d3a"
      },
      "source": [
        "nzi = pd.notnull(train_df[\"totals.transactionRevenue\"]).sum()\n",
        "nzr = (gdf[\"totals.transactionRevenue\"]>0).sum()\n",
        "print(\"Número de instancias en las muestras de entrenamiento con ingresos diferentes de cero: \", nzi, \" y la relación es : \", nzi / train_df.shape[0])\n",
        "print(\"Número de clientes únicos con ingresos diferentes de cero: \", nzr, \"y la relación es : \", nzr / gdf.shape[0])"
      ],
      "execution_count": null,
      "outputs": [
        {
          "output_type": "stream",
          "text": [
            "Número de instancias en las muestras de entrenamiento con ingresos diferentes de cero:  903653  y la relación es :  1.0\n",
            "Número de clientes únicos con ingresos diferentes de cero:  9996 y la relación es :  0.013996726255903731\n"
          ],
          "name": "stdout"
        }
      ]
    },
    {
      "cell_type": "markdown",
      "metadata": {
        "id": "tNQqJjPVRvZV"
      },
      "source": [
        "# **Pre-analisis para construir modelo**"
      ]
    },
    {
      "cell_type": "code",
      "metadata": {
        "colab": {
          "base_uri": "https://localhost:8080/"
        },
        "id": "3ltFcT6oRrAv",
        "outputId": "41166a00-a397-4293-fc6e-c67302265ec1"
      },
      "source": [
        "print(\"Variables que estan en Train pero no estan en Test : \", set(train_df.columns).difference(set(test_df.columns)))"
      ],
      "execution_count": null,
      "outputs": [
        {
          "output_type": "stream",
          "text": [
            "Variables que estan en Train pero no estan en Test :  {'totals.transactionRevenue', 'trafficSource.campaignCode'}\n"
          ],
          "name": "stdout"
        }
      ]
    },
    {
      "cell_type": "markdown",
      "metadata": {
        "id": "DS6jX2wcUE_d"
      },
      "source": [
        "\n",
        "Entonces, aparte de la variable de destino, hay una variable más \"trafficSource.campaignCode\" que no está presente en el conjunto de datos de Test. Por lo que debemos eliminar esta variable mientras construimos modelos. \n",
        "\n",
        "También podemos eliminar el \"sessionId\" ya que es un identificador único de la visita."
      ]
    },
    {
      "cell_type": "code",
      "metadata": {
        "id": "0i28udNVUPoz"
      },
      "source": [
        "cols_to_drop =  ['sessionId']\n",
        "train_df = train_df.drop(cols_to_drop + [\"trafficSource.campaignCode\"], axis=1)\n",
        "test_df = test_df.drop(cols_to_drop, axis=1)"
      ],
      "execution_count": null,
      "outputs": []
    },
    {
      "cell_type": "code",
      "metadata": {
        "colab": {
          "base_uri": "https://localhost:8080/"
        },
        "id": "qTXQRjNmVPrN",
        "outputId": "10169d9d-4b32-4374-d48a-0ca179c52e1a"
      },
      "source": [
        "print(train_df.shape,test_df.shape)"
      ],
      "execution_count": null,
      "outputs": [
        {
          "output_type": "stream",
          "text": [
            "(903653, 34) (804684, 33)\n"
          ],
          "name": "stdout"
        }
      ]
    },
    {
      "cell_type": "markdown",
      "metadata": {
        "id": "LvlWY_-odBQH"
      },
      "source": [
        "# **Conversion variable categórica a númerica**"
      ]
    },
    {
      "cell_type": "code",
      "metadata": {
        "colab": {
          "base_uri": "https://localhost:8080/"
        },
        "id": "OFGiLc2nVW4E",
        "outputId": "41bfbd84-6d9d-4d96-a39e-bef4535f6385"
      },
      "source": [
        "y_train = train_df[\"totals.transactionRevenue\"].values\n",
        "train_id = train_df[\"fullVisitorId\"].values\n",
        "test_id = test_df[\"fullVisitorId\"].values\n",
        "\n",
        "# etiqueta codifica las variables categóricas y convierte las variables numéricas flotantes\n",
        "cat_cols = [\"channelGrouping\", \"device.browser\", \n",
        "            \"device.deviceCategory\", \"device.operatingSystem\", \"device.isMobile\",\n",
        "            \"geoNetwork.city\", \"geoNetwork.continent\", \n",
        "            \"geoNetwork.country\", \"geoNetwork.metro\",\n",
        "            \"geoNetwork.networkDomain\", \"geoNetwork.region\", \n",
        "            \"geoNetwork.subContinent\", \"trafficSource.adContent\", \n",
        "            \"trafficSource.adwordsClickInfo.adNetworkType\", \n",
        "            \"trafficSource.adwordsClickInfo.gclId\", \n",
        "            \"trafficSource.adwordsClickInfo.page\", \n",
        "            \"trafficSource.adwordsClickInfo.slot\", \"trafficSource.campaign\",\n",
        "            \"trafficSource.keyword\", \"trafficSource.medium\", \n",
        "            \"trafficSource.referralPath\", \"trafficSource.source\",\n",
        "            'trafficSource.adwordsClickInfo.isVideoAd', 'trafficSource.isTrueDirect']\n",
        "for col in cat_cols:\n",
        "    print(col)\n",
        "    lbl = preprocessing.LabelEncoder()\n",
        "    lbl.fit(list(train_df[col].values.astype('str')) + list(test_df[col].values.astype('str')))\n",
        "    train_df[col] = lbl.transform(list(train_df[col].values.astype('str')))\n",
        "    test_df[col] = lbl.transform(list(test_df[col].values.astype('str')))\n",
        "\n",
        "\n",
        "num_cols = [\"totals.hits\", \"totals.pageviews\", \"visitNumber\", \"visitStartTime\", 'totals.bounces',  'totals.newVisits']    \n",
        "for col in num_cols:\n",
        "    train_df[col] = train_df[col].astype(float)\n",
        "    test_df[col] = test_df[col].astype(float)"
      ],
      "execution_count": null,
      "outputs": [
        {
          "output_type": "stream",
          "text": [
            "channelGrouping\n",
            "device.browser\n",
            "device.deviceCategory\n",
            "device.operatingSystem\n",
            "device.isMobile\n",
            "geoNetwork.city\n",
            "geoNetwork.continent\n",
            "geoNetwork.country\n",
            "geoNetwork.metro\n",
            "geoNetwork.networkDomain\n",
            "geoNetwork.region\n",
            "geoNetwork.subContinent\n",
            "trafficSource.adContent\n",
            "trafficSource.adwordsClickInfo.adNetworkType\n",
            "trafficSource.adwordsClickInfo.gclId\n",
            "trafficSource.adwordsClickInfo.page\n",
            "trafficSource.adwordsClickInfo.slot\n",
            "trafficSource.campaign\n",
            "trafficSource.keyword\n",
            "trafficSource.medium\n",
            "trafficSource.referralPath\n",
            "trafficSource.source\n",
            "trafficSource.adwordsClickInfo.isVideoAd\n",
            "trafficSource.isTrueDirect\n"
          ],
          "name": "stdout"
        }
      ]
    },
    {
      "cell_type": "code",
      "metadata": {
        "colab": {
          "base_uri": "https://localhost:8080/",
          "height": 247
        },
        "id": "03UHtRqLWof3",
        "outputId": "88d52b52-b6b9-42cb-b54e-c7698c10bbe3"
      },
      "source": [
        "train_df.head(4)"
      ],
      "execution_count": null,
      "outputs": [
        {
          "output_type": "execute_result",
          "data": {
            "text/html": [
              "<div>\n",
              "<style scoped>\n",
              "    .dataframe tbody tr th:only-of-type {\n",
              "        vertical-align: middle;\n",
              "    }\n",
              "\n",
              "    .dataframe tbody tr th {\n",
              "        vertical-align: top;\n",
              "    }\n",
              "\n",
              "    .dataframe thead th {\n",
              "        text-align: right;\n",
              "    }\n",
              "</style>\n",
              "<table border=\"1\" class=\"dataframe\">\n",
              "  <thead>\n",
              "    <tr style=\"text-align: right;\">\n",
              "      <th></th>\n",
              "      <th>channelGrouping</th>\n",
              "      <th>date</th>\n",
              "      <th>fullVisitorId</th>\n",
              "      <th>visitId</th>\n",
              "      <th>visitNumber</th>\n",
              "      <th>visitStartTime</th>\n",
              "      <th>device.browser</th>\n",
              "      <th>device.operatingSystem</th>\n",
              "      <th>device.isMobile</th>\n",
              "      <th>device.deviceCategory</th>\n",
              "      <th>geoNetwork.continent</th>\n",
              "      <th>geoNetwork.subContinent</th>\n",
              "      <th>geoNetwork.country</th>\n",
              "      <th>geoNetwork.region</th>\n",
              "      <th>geoNetwork.metro</th>\n",
              "      <th>geoNetwork.city</th>\n",
              "      <th>geoNetwork.networkDomain</th>\n",
              "      <th>totals.hits</th>\n",
              "      <th>totals.pageviews</th>\n",
              "      <th>totals.bounces</th>\n",
              "      <th>totals.newVisits</th>\n",
              "      <th>totals.transactionRevenue</th>\n",
              "      <th>trafficSource.campaign</th>\n",
              "      <th>trafficSource.source</th>\n",
              "      <th>trafficSource.medium</th>\n",
              "      <th>trafficSource.keyword</th>\n",
              "      <th>trafficSource.isTrueDirect</th>\n",
              "      <th>trafficSource.referralPath</th>\n",
              "      <th>trafficSource.adwordsClickInfo.page</th>\n",
              "      <th>trafficSource.adwordsClickInfo.slot</th>\n",
              "      <th>trafficSource.adwordsClickInfo.gclId</th>\n",
              "      <th>trafficSource.adwordsClickInfo.adNetworkType</th>\n",
              "      <th>trafficSource.adwordsClickInfo.isVideoAd</th>\n",
              "      <th>trafficSource.adContent</th>\n",
              "    </tr>\n",
              "  </thead>\n",
              "  <tbody>\n",
              "    <tr>\n",
              "      <th>0</th>\n",
              "      <td>4</td>\n",
              "      <td>2016-09-02</td>\n",
              "      <td>1131660440785968503</td>\n",
              "      <td>1472830385</td>\n",
              "      <td>1.0</td>\n",
              "      <td>1.472830e+09</td>\n",
              "      <td>35</td>\n",
              "      <td>20</td>\n",
              "      <td>0</td>\n",
              "      <td>0</td>\n",
              "      <td>3</td>\n",
              "      <td>21</td>\n",
              "      <td>210</td>\n",
              "      <td>193</td>\n",
              "      <td>0</td>\n",
              "      <td>378</td>\n",
              "      <td>37454</td>\n",
              "      <td>1.0</td>\n",
              "      <td>1.0</td>\n",
              "      <td>1.0</td>\n",
              "      <td>1.0</td>\n",
              "      <td>0.0</td>\n",
              "      <td>4</td>\n",
              "      <td>208</td>\n",
              "      <td>5</td>\n",
              "      <td>11</td>\n",
              "      <td>0</td>\n",
              "      <td>3196</td>\n",
              "      <td>0</td>\n",
              "      <td>0</td>\n",
              "      <td>0</td>\n",
              "      <td>0</td>\n",
              "      <td>0</td>\n",
              "      <td>0</td>\n",
              "    </tr>\n",
              "    <tr>\n",
              "      <th>1</th>\n",
              "      <td>4</td>\n",
              "      <td>2016-09-02</td>\n",
              "      <td>377306020877927890</td>\n",
              "      <td>1472880147</td>\n",
              "      <td>1.0</td>\n",
              "      <td>1.472880e+09</td>\n",
              "      <td>43</td>\n",
              "      <td>7</td>\n",
              "      <td>0</td>\n",
              "      <td>0</td>\n",
              "      <td>5</td>\n",
              "      <td>1</td>\n",
              "      <td>12</td>\n",
              "      <td>482</td>\n",
              "      <td>122</td>\n",
              "      <td>955</td>\n",
              "      <td>10098</td>\n",
              "      <td>1.0</td>\n",
              "      <td>1.0</td>\n",
              "      <td>1.0</td>\n",
              "      <td>1.0</td>\n",
              "      <td>0.0</td>\n",
              "      <td>4</td>\n",
              "      <td>208</td>\n",
              "      <td>5</td>\n",
              "      <td>11</td>\n",
              "      <td>0</td>\n",
              "      <td>3196</td>\n",
              "      <td>0</td>\n",
              "      <td>0</td>\n",
              "      <td>0</td>\n",
              "      <td>0</td>\n",
              "      <td>0</td>\n",
              "      <td>0</td>\n",
              "    </tr>\n",
              "    <tr>\n",
              "      <th>2</th>\n",
              "      <td>4</td>\n",
              "      <td>2016-09-02</td>\n",
              "      <td>3895546263509774583</td>\n",
              "      <td>1472865386</td>\n",
              "      <td>1.0</td>\n",
              "      <td>1.472865e+09</td>\n",
              "      <td>35</td>\n",
              "      <td>20</td>\n",
              "      <td>0</td>\n",
              "      <td>0</td>\n",
              "      <td>4</td>\n",
              "      <td>19</td>\n",
              "      <td>185</td>\n",
              "      <td>99</td>\n",
              "      <td>0</td>\n",
              "      <td>475</td>\n",
              "      <td>38725</td>\n",
              "      <td>1.0</td>\n",
              "      <td>1.0</td>\n",
              "      <td>1.0</td>\n",
              "      <td>1.0</td>\n",
              "      <td>0.0</td>\n",
              "      <td>4</td>\n",
              "      <td>208</td>\n",
              "      <td>5</td>\n",
              "      <td>11</td>\n",
              "      <td>0</td>\n",
              "      <td>3196</td>\n",
              "      <td>0</td>\n",
              "      <td>0</td>\n",
              "      <td>0</td>\n",
              "      <td>0</td>\n",
              "      <td>0</td>\n",
              "      <td>0</td>\n",
              "    </tr>\n",
              "    <tr>\n",
              "      <th>3</th>\n",
              "      <td>4</td>\n",
              "      <td>2016-09-02</td>\n",
              "      <td>4763447161404445595</td>\n",
              "      <td>1472881213</td>\n",
              "      <td>1.0</td>\n",
              "      <td>1.472881e+09</td>\n",
              "      <td>79</td>\n",
              "      <td>6</td>\n",
              "      <td>0</td>\n",
              "      <td>0</td>\n",
              "      <td>3</td>\n",
              "      <td>16</td>\n",
              "      <td>94</td>\n",
              "      <td>482</td>\n",
              "      <td>122</td>\n",
              "      <td>955</td>\n",
              "      <td>38725</td>\n",
              "      <td>1.0</td>\n",
              "      <td>1.0</td>\n",
              "      <td>1.0</td>\n",
              "      <td>1.0</td>\n",
              "      <td>0.0</td>\n",
              "      <td>4</td>\n",
              "      <td>208</td>\n",
              "      <td>5</td>\n",
              "      <td>1608</td>\n",
              "      <td>0</td>\n",
              "      <td>3196</td>\n",
              "      <td>0</td>\n",
              "      <td>0</td>\n",
              "      <td>0</td>\n",
              "      <td>0</td>\n",
              "      <td>0</td>\n",
              "      <td>0</td>\n",
              "    </tr>\n",
              "  </tbody>\n",
              "</table>\n",
              "</div>"
            ],
            "text/plain": [
              "   channelGrouping  ... trafficSource.adContent\n",
              "0                4  ...                       0\n",
              "1                4  ...                       0\n",
              "2                4  ...                       0\n",
              "3                4  ...                       0\n",
              "\n",
              "[4 rows x 34 columns]"
            ]
          },
          "metadata": {
            "tags": []
          },
          "execution_count": 31
        }
      ]
    },
    {
      "cell_type": "code",
      "metadata": {
        "colab": {
          "base_uri": "https://localhost:8080/"
        },
        "id": "MOY84aq8q9ko",
        "outputId": "6c95894a-478e-4e12-a10e-515be1919c38"
      },
      "source": [
        "train_df.dtypes"
      ],
      "execution_count": null,
      "outputs": [
        {
          "output_type": "execute_result",
          "data": {
            "text/plain": [
              "channelGrouping                                   int64\n",
              "date                                             object\n",
              "fullVisitorId                                    object\n",
              "visitId                                           int64\n",
              "visitNumber                                     float64\n",
              "visitStartTime                                  float64\n",
              "device.browser                                    int64\n",
              "device.operatingSystem                            int64\n",
              "device.isMobile                                   int64\n",
              "device.deviceCategory                             int64\n",
              "geoNetwork.continent                              int64\n",
              "geoNetwork.subContinent                           int64\n",
              "geoNetwork.country                                int64\n",
              "geoNetwork.region                                 int64\n",
              "geoNetwork.metro                                  int64\n",
              "geoNetwork.city                                   int64\n",
              "geoNetwork.networkDomain                          int64\n",
              "totals.hits                                     float64\n",
              "totals.pageviews                                float64\n",
              "totals.bounces                                  float64\n",
              "totals.newVisits                                float64\n",
              "totals.transactionRevenue                       float64\n",
              "trafficSource.campaign                            int64\n",
              "trafficSource.source                              int64\n",
              "trafficSource.medium                              int64\n",
              "trafficSource.keyword                             int64\n",
              "trafficSource.isTrueDirect                        int64\n",
              "trafficSource.referralPath                        int64\n",
              "trafficSource.adwordsClickInfo.page               int64\n",
              "trafficSource.adwordsClickInfo.slot               int64\n",
              "trafficSource.adwordsClickInfo.gclId              int64\n",
              "trafficSource.adwordsClickInfo.adNetworkType      int64\n",
              "trafficSource.adwordsClickInfo.isVideoAd          int64\n",
              "trafficSource.adContent                           int64\n",
              "dtype: object"
            ]
          },
          "metadata": {
            "tags": []
          },
          "execution_count": 32
        }
      ]
    },
    {
      "cell_type": "code",
      "metadata": {
        "colab": {
          "base_uri": "https://localhost:8080/",
          "height": 247
        },
        "id": "YUwAwKbSd6An",
        "outputId": "f315f3f9-1654-47d9-a771-685c9bf27445"
      },
      "source": [
        "test_df.head(4)"
      ],
      "execution_count": null,
      "outputs": [
        {
          "output_type": "execute_result",
          "data": {
            "text/html": [
              "<div>\n",
              "<style scoped>\n",
              "    .dataframe tbody tr th:only-of-type {\n",
              "        vertical-align: middle;\n",
              "    }\n",
              "\n",
              "    .dataframe tbody tr th {\n",
              "        vertical-align: top;\n",
              "    }\n",
              "\n",
              "    .dataframe thead th {\n",
              "        text-align: right;\n",
              "    }\n",
              "</style>\n",
              "<table border=\"1\" class=\"dataframe\">\n",
              "  <thead>\n",
              "    <tr style=\"text-align: right;\">\n",
              "      <th></th>\n",
              "      <th>channelGrouping</th>\n",
              "      <th>date</th>\n",
              "      <th>fullVisitorId</th>\n",
              "      <th>visitId</th>\n",
              "      <th>visitNumber</th>\n",
              "      <th>visitStartTime</th>\n",
              "      <th>device.browser</th>\n",
              "      <th>device.operatingSystem</th>\n",
              "      <th>device.isMobile</th>\n",
              "      <th>device.deviceCategory</th>\n",
              "      <th>geoNetwork.continent</th>\n",
              "      <th>geoNetwork.subContinent</th>\n",
              "      <th>geoNetwork.country</th>\n",
              "      <th>geoNetwork.region</th>\n",
              "      <th>geoNetwork.metro</th>\n",
              "      <th>geoNetwork.city</th>\n",
              "      <th>geoNetwork.networkDomain</th>\n",
              "      <th>totals.hits</th>\n",
              "      <th>totals.pageviews</th>\n",
              "      <th>totals.newVisits</th>\n",
              "      <th>totals.bounces</th>\n",
              "      <th>trafficSource.campaign</th>\n",
              "      <th>trafficSource.source</th>\n",
              "      <th>trafficSource.medium</th>\n",
              "      <th>trafficSource.keyword</th>\n",
              "      <th>trafficSource.isTrueDirect</th>\n",
              "      <th>trafficSource.adwordsClickInfo.page</th>\n",
              "      <th>trafficSource.adwordsClickInfo.slot</th>\n",
              "      <th>trafficSource.adwordsClickInfo.gclId</th>\n",
              "      <th>trafficSource.adwordsClickInfo.adNetworkType</th>\n",
              "      <th>trafficSource.adwordsClickInfo.isVideoAd</th>\n",
              "      <th>trafficSource.referralPath</th>\n",
              "      <th>trafficSource.adContent</th>\n",
              "    </tr>\n",
              "  </thead>\n",
              "  <tbody>\n",
              "    <tr>\n",
              "      <th>0</th>\n",
              "      <td>4</td>\n",
              "      <td>2017-10-16</td>\n",
              "      <td>6167871330617112363</td>\n",
              "      <td>1508151024</td>\n",
              "      <td>2.0</td>\n",
              "      <td>1.508151e+09</td>\n",
              "      <td>35</td>\n",
              "      <td>7</td>\n",
              "      <td>0</td>\n",
              "      <td>0</td>\n",
              "      <td>3</td>\n",
              "      <td>16</td>\n",
              "      <td>176</td>\n",
              "      <td>0</td>\n",
              "      <td>0</td>\n",
              "      <td>1</td>\n",
              "      <td>24691</td>\n",
              "      <td>4.0</td>\n",
              "      <td>4.0</td>\n",
              "      <td>0.0</td>\n",
              "      <td>0.0</td>\n",
              "      <td>4</td>\n",
              "      <td>208</td>\n",
              "      <td>5</td>\n",
              "      <td>11</td>\n",
              "      <td>1</td>\n",
              "      <td>0</td>\n",
              "      <td>0</td>\n",
              "      <td>0</td>\n",
              "      <td>0</td>\n",
              "      <td>0</td>\n",
              "      <td>3196</td>\n",
              "      <td>0</td>\n",
              "    </tr>\n",
              "    <tr>\n",
              "      <th>1</th>\n",
              "      <td>4</td>\n",
              "      <td>2017-10-16</td>\n",
              "      <td>0643697640977915618</td>\n",
              "      <td>1508175522</td>\n",
              "      <td>1.0</td>\n",
              "      <td>1.508176e+09</td>\n",
              "      <td>35</td>\n",
              "      <td>20</td>\n",
              "      <td>0</td>\n",
              "      <td>0</td>\n",
              "      <td>4</td>\n",
              "      <td>19</td>\n",
              "      <td>185</td>\n",
              "      <td>23</td>\n",
              "      <td>0</td>\n",
              "      <td>948</td>\n",
              "      <td>30734</td>\n",
              "      <td>5.0</td>\n",
              "      <td>5.0</td>\n",
              "      <td>1.0</td>\n",
              "      <td>0.0</td>\n",
              "      <td>4</td>\n",
              "      <td>208</td>\n",
              "      <td>5</td>\n",
              "      <td>11</td>\n",
              "      <td>0</td>\n",
              "      <td>0</td>\n",
              "      <td>0</td>\n",
              "      <td>0</td>\n",
              "      <td>0</td>\n",
              "      <td>0</td>\n",
              "      <td>3196</td>\n",
              "      <td>0</td>\n",
              "    </tr>\n",
              "    <tr>\n",
              "      <th>2</th>\n",
              "      <td>4</td>\n",
              "      <td>2017-10-16</td>\n",
              "      <td>6059383810968229466</td>\n",
              "      <td>1508143220</td>\n",
              "      <td>1.0</td>\n",
              "      <td>1.508143e+09</td>\n",
              "      <td>35</td>\n",
              "      <td>7</td>\n",
              "      <td>0</td>\n",
              "      <td>0</td>\n",
              "      <td>4</td>\n",
              "      <td>22</td>\n",
              "      <td>69</td>\n",
              "      <td>482</td>\n",
              "      <td>122</td>\n",
              "      <td>955</td>\n",
              "      <td>32535</td>\n",
              "      <td>7.0</td>\n",
              "      <td>7.0</td>\n",
              "      <td>1.0</td>\n",
              "      <td>0.0</td>\n",
              "      <td>4</td>\n",
              "      <td>208</td>\n",
              "      <td>5</td>\n",
              "      <td>11</td>\n",
              "      <td>0</td>\n",
              "      <td>0</td>\n",
              "      <td>0</td>\n",
              "      <td>0</td>\n",
              "      <td>0</td>\n",
              "      <td>0</td>\n",
              "      <td>3196</td>\n",
              "      <td>0</td>\n",
              "    </tr>\n",
              "    <tr>\n",
              "      <th>3</th>\n",
              "      <td>4</td>\n",
              "      <td>2017-10-16</td>\n",
              "      <td>2376720078563423631</td>\n",
              "      <td>1508193530</td>\n",
              "      <td>1.0</td>\n",
              "      <td>1.508194e+09</td>\n",
              "      <td>72</td>\n",
              "      <td>23</td>\n",
              "      <td>1</td>\n",
              "      <td>1</td>\n",
              "      <td>2</td>\n",
              "      <td>12</td>\n",
              "      <td>218</td>\n",
              "      <td>73</td>\n",
              "      <td>100</td>\n",
              "      <td>540</td>\n",
              "      <td>0</td>\n",
              "      <td>8.0</td>\n",
              "      <td>4.0</td>\n",
              "      <td>1.0</td>\n",
              "      <td>0.0</td>\n",
              "      <td>4</td>\n",
              "      <td>208</td>\n",
              "      <td>5</td>\n",
              "      <td>11</td>\n",
              "      <td>0</td>\n",
              "      <td>0</td>\n",
              "      <td>0</td>\n",
              "      <td>0</td>\n",
              "      <td>0</td>\n",
              "      <td>0</td>\n",
              "      <td>3196</td>\n",
              "      <td>0</td>\n",
              "    </tr>\n",
              "  </tbody>\n",
              "</table>\n",
              "</div>"
            ],
            "text/plain": [
              "   channelGrouping  ... trafficSource.adContent\n",
              "0                4  ...                       0\n",
              "1                4  ...                       0\n",
              "2                4  ...                       0\n",
              "3                4  ...                       0\n",
              "\n",
              "[4 rows x 33 columns]"
            ]
          },
          "metadata": {
            "tags": []
          },
          "execution_count": 33
        }
      ]
    },
    {
      "cell_type": "code",
      "metadata": {
        "id": "ZsZadnwOmrEv"
      },
      "source": [
        "#Dividiendo los conjuntos de datos de entrenamiento y validacion segun el tiempo\n",
        "dev_df = train_df[train_df['date']<=datetime.date(2017,5,31)]\n",
        "val_df = train_df[train_df['date']>datetime.date(2017,5,31)]\n",
        "dev_y = np.log1p(dev_df[\"totals.transactionRevenue\"].values)\n",
        "val_y = np.log1p(val_df[\"totals.transactionRevenue\"].values)\n",
        "\n",
        "dev_X = dev_df[cat_cols + num_cols] \n",
        "val_X = val_df[cat_cols + num_cols] #La misma base de datos pero segmentada por la fecha 2017,5,31\n",
        "test_X = test_df[cat_cols + num_cols] "
      ],
      "execution_count": null,
      "outputs": []
    },
    {
      "cell_type": "markdown",
      "metadata": {
        "id": "O8lxLm5TMpom"
      },
      "source": [
        "# **Modelo lightGBM**"
      ]
    },
    {
      "cell_type": "code",
      "metadata": {
        "colab": {
          "base_uri": "https://localhost:8080/"
        },
        "id": "Dupotj64nc1f",
        "outputId": "a05e05f7-dd06-4867-dc59-1b29274f5a50"
      },
      "source": [
        "# custom function to run light gbm model\n",
        "def run_lgb(train_X, train_y, val_X, val_y, test_X):\n",
        "    params = {\n",
        "        \"objective\" : \"regression\",\n",
        "        \"metric\" : \"rmse\", \n",
        "        \"num_leaves\" : 30,\n",
        "        \"min_child_samples\" : 100,\n",
        "        \"learning_rate\" : 0.1,\n",
        "        \"bagging_fraction\" : 0.7,\n",
        "        \"feature_fraction\" : 0.5,\n",
        "        \"bagging_frequency\" : 5,\n",
        "        \"bagging_seed\" : 2018,\n",
        "        \"verbosity\" : -1\n",
        "    }\n",
        "    \n",
        "    lgtrain = lgb.Dataset(train_X, label=train_y)\n",
        "    lgval = lgb.Dataset(val_X, label=val_y)\n",
        "    model = lgb.train(params, lgtrain, 1000, valid_sets=[lgval], early_stopping_rounds=100, verbose_eval=100)\n",
        "    \n",
        "    pred_test_y = model.predict(test_X, num_iteration=model.best_iteration)\n",
        "    pred_val_y = model.predict(val_X, num_iteration=model.best_iteration)\n",
        "    return pred_test_y, model, pred_val_y\n",
        "\n",
        "# Training the model #\n",
        "pred_test, model, pred_val = run_lgb(dev_X, dev_y, val_X, val_y, test_X)"
      ],
      "execution_count": null,
      "outputs": [
        {
          "output_type": "stream",
          "text": [
            "Training until validation scores don't improve for 100 rounds.\n",
            "[100]\tvalid_0's rmse: 1.69755\n",
            "[200]\tvalid_0's rmse: 1.69259\n",
            "Early stopping, best iteration is:\n",
            "[171]\tvalid_0's rmse: 1.69198\n"
          ],
          "name": "stdout"
        }
      ]
    },
    {
      "cell_type": "code",
      "metadata": {
        "colab": {
          "base_uri": "https://localhost:8080/"
        },
        "id": "tNdBeGoTrjt3",
        "outputId": "1dc8e196-7565-4f53-d138-8f6bcca67b65"
      },
      "source": [
        "model.best_iteration"
      ],
      "execution_count": null,
      "outputs": [
        {
          "output_type": "execute_result",
          "data": {
            "text/plain": [
              "171"
            ]
          },
          "metadata": {
            "tags": []
          },
          "execution_count": 55
        }
      ]
    },
    {
      "cell_type": "markdown",
      "metadata": {
        "id": "iSkZK6cN9apt"
      },
      "source": [
        "ERROR por usuario"
      ]
    },
    {
      "cell_type": "code",
      "metadata": {
        "colab": {
          "base_uri": "https://localhost:8080/"
        },
        "id": "-o_6FnBlntf9",
        "outputId": "5a3d3e38-db84-44a0-ffb2-57b6332bcda0"
      },
      "source": [
        "pred_val[pred_val<0] = 0\n",
        "val_pred_df = pd.DataFrame({\"fullVisitorId\":val_df[\"fullVisitorId\"].values})\n",
        "val_pred_df[\"transactionRevenue\"] = val_df[\"totals.transactionRevenue\"].values\n",
        "val_pred_df[\"PredictedRevenue\"] = np.expm1(pred_val)\n",
        "val_pred_df = val_pred_df.groupby(\"fullVisitorId\")[\"transactionRevenue\", \"PredictedRevenue\"].sum().reset_index()\n",
        "print('RMSE')\n",
        "print(np.sqrt(metrics.mean_squared_error(np.log1p(val_pred_df[\"transactionRevenue\"].values), np.log1p(val_pred_df[\"PredictedRevenue\"].values))))"
      ],
      "execution_count": null,
      "outputs": [
        {
          "output_type": "stream",
          "text": [
            "RMSE\n",
            "1.7088726993835681\n"
          ],
          "name": "stdout"
        },
        {
          "output_type": "stream",
          "text": [
            "/usr/local/lib/python3.7/dist-packages/ipykernel_launcher.py:5: FutureWarning:\n",
            "\n",
            "Indexing with multiple keys (implicitly converted to a tuple of keys) will be deprecated, use a list instead.\n",
            "\n"
          ],
          "name": "stderr"
        }
      ]
    },
    {
      "cell_type": "code",
      "metadata": {
        "colab": {
          "base_uri": "https://localhost:8080/"
        },
        "id": "E5mrcnuw36Gu",
        "outputId": "12bec2e1-ff3a-4c34-f09c-41fe8dc43a05"
      },
      "source": [
        "print('MAE')\n",
        "print((metrics.mean_absolute_error(np.log1p(val_pred_df[\"transactionRevenue\"].values ), np.log1p(val_pred_df[\"PredictedRevenue\"].values))))"
      ],
      "execution_count": null,
      "outputs": [
        {
          "output_type": "stream",
          "text": [
            "MAE\n",
            "0.35171754946565037\n"
          ],
          "name": "stdout"
        }
      ]
    },
    {
      "cell_type": "markdown",
      "metadata": {
        "id": "Uvkm6uBY913n"
      },
      "source": [
        "ERROR por registro"
      ]
    },
    {
      "cell_type": "code",
      "metadata": {
        "colab": {
          "base_uri": "https://localhost:8080/"
        },
        "id": "eoqzJ1zlxh59",
        "outputId": "fe62b32d-a6e6-42c1-c17f-3a2d129f2e4f"
      },
      "source": [
        "val_pred_df1 = pd.DataFrame({\"fullVisitorId\":val_df[\"fullVisitorId\"].values})\n",
        "val_pred_df1[\"transactionRevenue\"] = val_df[\"totals.transactionRevenue\"].values\n",
        "val_pred_df1[\"PredictedRevenue\"] = np.expm1(pred_val)\n",
        "print('RMSE')\n",
        "print(np.sqrt(metrics.mean_squared_error(np.log1p(val_pred_df1[\"transactionRevenue\"].values), np.log1p(val_pred_df1[\"PredictedRevenue\"].values))))"
      ],
      "execution_count": null,
      "outputs": [
        {
          "output_type": "stream",
          "text": [
            "RMSE\n",
            "1.691162121140537\n"
          ],
          "name": "stdout"
        }
      ]
    },
    {
      "cell_type": "code",
      "metadata": {
        "colab": {
          "base_uri": "https://localhost:8080/"
        },
        "id": "oIVurA9w-Iml",
        "outputId": "5394056c-2b38-4236-e843-f55cebe5de71"
      },
      "source": [
        "print('MAE')\n",
        "print((metrics.mean_absolute_error(np.log1p(val_pred_df1[\"transactionRevenue\"].values ), np.log1p(val_pred_df1[\"PredictedRevenue\"].values))))"
      ],
      "execution_count": null,
      "outputs": [
        {
          "output_type": "stream",
          "text": [
            "MAE\n",
            "0.3501253329487184\n"
          ],
          "name": "stdout"
        }
      ]
    },
    {
      "cell_type": "code",
      "metadata": {
        "colab": {
          "base_uri": "https://localhost:8080/"
        },
        "id": "5Gx3JJH7L86F",
        "outputId": "5b43866d-7b64-4d8b-84a5-56dadf6f56ab"
      },
      "source": [
        "# custom function to run light gbm model\n",
        "def run_lgb(train_X, train_y, val_X, val_y, test_X):\n",
        "    params = {\n",
        "        \"objective\" : \"regression\",\n",
        "        \"metric\" : \"mae\", \n",
        "        \"num_leaves\" : 30,\n",
        "        \"min_child_samples\" : 100,\n",
        "        \"learning_rate\" : 0.1,\n",
        "        \"bagging_fraction\" : 0.7,\n",
        "        \"feature_fraction\" : 0.5,\n",
        "        \"bagging_frequency\" : 5,\n",
        "        \"bagging_seed\" : 2018,\n",
        "        \"verbosity\" : -1\n",
        "    }\n",
        "    \n",
        "    lgtrain = lgb.Dataset(train_X, label=train_y)\n",
        "    lgval = lgb.Dataset(val_X, label=val_y)\n",
        "    model = lgb.train(params, lgtrain, 1000, valid_sets=[lgval], early_stopping_rounds=100, verbose_eval=100)\n",
        "    \n",
        "    pred_test_y = model.predict(test_X, num_iteration=model.best_iteration)\n",
        "    pred_val_y = model.predict(val_X, num_iteration=model.best_iteration)\n",
        "    return pred_test_y, model, pred_val_y\n",
        "\n",
        "# Training the model #\n",
        "pred_test, model, pred_val = run_lgb(dev_X, dev_y, val_X, val_y, test_X)"
      ],
      "execution_count": null,
      "outputs": [
        {
          "output_type": "stream",
          "text": [
            "Training until validation scores don't improve for 100 rounds.\n",
            "[100]\tvalid_0's l1: 0.363725\n",
            "Early stopping, best iteration is:\n",
            "[28]\tvalid_0's l1: 0.360797\n"
          ],
          "name": "stdout"
        }
      ]
    },
    {
      "cell_type": "code",
      "metadata": {
        "colab": {
          "base_uri": "https://localhost:8080/"
        },
        "id": "FBAtCo2Er7GD",
        "outputId": "e406c391-b140-44b1-9388-8ac799f45119"
      },
      "source": [
        "model.best_iteration"
      ],
      "execution_count": null,
      "outputs": [
        {
          "output_type": "execute_result",
          "data": {
            "text/plain": [
              "28"
            ]
          },
          "metadata": {
            "tags": []
          },
          "execution_count": 61
        }
      ]
    },
    {
      "cell_type": "code",
      "metadata": {
        "colab": {
          "base_uri": "https://localhost:8080/"
        },
        "id": "4mRx84u6QM9z",
        "outputId": "d1e9b361-00ee-477a-f3eb-d021cbe83e20"
      },
      "source": [
        "pred_val[pred_val<0] = 0\n",
        "val_pred_df2 = pd.DataFrame({\"fullVisitorId\":val_df[\"fullVisitorId\"].values})\n",
        "val_pred_df2[\"transactionRevenue\"] = val_df[\"totals.transactionRevenue\"].values\n",
        "val_pred_df2[\"PredictedRevenue\"] = np.expm1(pred_val)\n",
        "val_pred_df2 = val_pred_df2.groupby(\"fullVisitorId\")[\"transactionRevenue\", \"PredictedRevenue\"].sum().reset_index()\n",
        "print('RMSE')\n",
        "print(np.sqrt(metrics.mean_squared_error(np.log1p(val_pred_df2[\"transactionRevenue\"].values), np.log1p(val_pred_df2[\"PredictedRevenue\"].values))))"
      ],
      "execution_count": null,
      "outputs": [
        {
          "output_type": "stream",
          "text": [
            "RMSE\n",
            "1.7941594397318048\n"
          ],
          "name": "stdout"
        },
        {
          "output_type": "stream",
          "text": [
            "/usr/local/lib/python3.7/dist-packages/ipykernel_launcher.py:5: FutureWarning:\n",
            "\n",
            "Indexing with multiple keys (implicitly converted to a tuple of keys) will be deprecated, use a list instead.\n",
            "\n"
          ],
          "name": "stderr"
        }
      ]
    },
    {
      "cell_type": "code",
      "metadata": {
        "colab": {
          "base_uri": "https://localhost:8080/"
        },
        "id": "KUH57OlLQpsy",
        "outputId": "4e530a29-6456-4da5-a3a4-3b5222dd9d3f"
      },
      "source": [
        "print('MAE')\n",
        "print((metrics.mean_absolute_error(np.log1p(val_pred_df2[\"transactionRevenue\"].values ), np.log1p(val_pred_df2[\"PredictedRevenue\"].values))))"
      ],
      "execution_count": null,
      "outputs": [
        {
          "output_type": "stream",
          "text": [
            "MAE\n",
            "0.3676355641636173\n"
          ],
          "name": "stdout"
        }
      ]
    },
    {
      "cell_type": "code",
      "metadata": {
        "colab": {
          "base_uri": "https://localhost:8080/"
        },
        "id": "fuuvwaeVRAU7",
        "outputId": "d2fbe7cc-df7e-4035-f3c5-71faea4c9e7e"
      },
      "source": [
        "val_pred_df3 = pd.DataFrame({\"fullVisitorId\":val_df[\"fullVisitorId\"].values})\n",
        "val_pred_df3[\"transactionRevenue\"] = val_df[\"totals.transactionRevenue\"].values\n",
        "val_pred_df3[\"PredictedRevenue\"] = np.expm1(pred_val)\n",
        "print('RMSE')\n",
        "print(np.sqrt(metrics.mean_squared_error(np.log1p(val_pred_df3[\"transactionRevenue\"].values), np.log1p(val_pred_df3[\"PredictedRevenue\"].values))))"
      ],
      "execution_count": null,
      "outputs": [
        {
          "output_type": "stream",
          "text": [
            "RMSE\n",
            "1.742530395499133\n"
          ],
          "name": "stdout"
        }
      ]
    },
    {
      "cell_type": "code",
      "metadata": {
        "colab": {
          "base_uri": "https://localhost:8080/"
        },
        "id": "oOQVGA1dRL6Z",
        "outputId": "09a649bf-cb1f-47df-8a15-fb2dc6932ee3"
      },
      "source": [
        "print('MAE')\n",
        "print((metrics.mean_absolute_error(np.log1p(val_pred_df3[\"transactionRevenue\"].values ), np.log1p(val_pred_df3[\"PredictedRevenue\"].values))))"
      ],
      "execution_count": null,
      "outputs": [
        {
          "output_type": "stream",
          "text": [
            "MAE\n",
            "0.3586429107136866\n"
          ],
          "name": "stdout"
        }
      ]
    },
    {
      "cell_type": "code",
      "metadata": {
        "id": "_qu1mYRtoChl"
      },
      "source": [
        "sub_df = pd.DataFrame({\"fullVisitorId\":test_id})\n",
        "pred_test[pred_test<0] = 0\n",
        "sub_df[\"PredictedLogRevenue\"] = np.expm1(pred_test)\n",
        "sub_df = sub_df.groupby(\"fullVisitorId\")[\"PredictedLogRevenue\"].sum().reset_index()\n",
        "sub_df.columns = [\"fullVisitorId\", \"PredictedLogRevenue\"]\n",
        "sub_df[\"PredictedLogRevenue\"] = np.log1p(sub_df[\"PredictedLogRevenue\"])\n",
        "sub_df.to_csv(\"baseline_lgb.csv\", index=False)"
      ],
      "execution_count": null,
      "outputs": []
    },
    {
      "cell_type": "code",
      "metadata": {
        "colab": {
          "base_uri": "https://localhost:8080/",
          "height": 1000
        },
        "id": "hRxsRS5QoJsI",
        "outputId": "baa72753-3726-49ce-ddc7-16aeb1fd0a73"
      },
      "source": [
        "fig, ax = plt.subplots(figsize=(12,18))\n",
        "lgb.plot_importance(model, max_num_features=50, height=0.8, ax=ax)\n",
        "ax.grid(False)\n",
        "plt.title(\"LightGBM - Feature Importance\", fontsize=20)\n",
        "plt.show()"
      ],
      "execution_count": null,
      "outputs": [
        {
          "output_type": "display_data",
          "data": {
            "image/png": "[encoded data removed]",
            "text/plain": [
              "<Figure size 864x1296 with 1 Axes>"
            ]
          },
          "metadata": {
            "tags": [],
            "needs_background": "light"
          }
        }
      ]
    }
  ]
}